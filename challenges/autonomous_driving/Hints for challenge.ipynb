{
 "cells": [
  {
   "cell_type": "markdown",
   "metadata": {},
   "source": [
    "# Hints for challenge"
   ]
  },
  {
   "cell_type": "markdown",
   "metadata": {},
   "source": [
    "The following papers can be useful to better understand the implementation:\n",
    "1. https://arxiv.org/pdf/1412.6980.pdf\n",
    "2. http://proceedings.mlr.press/v9/glorot10a/glorot10a.pdf"
   ]
  },
  {
   "cell_type": "markdown",
   "metadata": {},
   "source": [
    "## Adam Optimiser:"
   ]
  },
  {
   "cell_type": "code",
   "execution_count": null,
   "metadata": {},
   "outputs": [],
   "source": [
    "num_iterations = 5000\n",
    "alpha = 1e-4\n",
    "beta1= 0.9\n",
    "beta2= 0.999\n",
    "epsilon= 1e-08\n",
    "\n",
    "m0 = np.zeros(len(grads)) #Initialize first moment vector\n",
    "v0 = np.zeros(len(grads)) #Initialize second moment vector\n",
    "t = 0.0\n",
    "\n",
    "losses = [] #For visualization\n",
    "mt = m0\n",
    "vt = v0\n",
    "\n",
    "for i in tqdm(range(num_iterations)):\n",
    "    t += 1\n",
    "    grads = NN.computeGradients(X = X, y = y)\n",
    "    mt = beta1*mt + (1-beta1)*grads\n",
    "    vt = beta2*vt + (1-beta2)*grads**2\n",
    "    mt_hat = mt/(1-beta1**t)\n",
    "    vt_hat = vt/(1-beta2**t)\n",
    "    \n",
    "    params = NN.getParams()\n",
    "    new_params = params - alpha*mt_hat/(sqrt(vt_hat)+epsilon)\n",
    "    NN.setParams(new_params)\n",
    "    \n",
    "    losses.append(NN.costFunction(X = X, y = y))"
   ]
  },
  {
   "cell_type": "markdown",
   "metadata": {},
   "source": [
    "## Glorot Weight Initialization:"
   ]
  },
  {
   "cell_type": "code",
   "execution_count": null,
   "metadata": {},
   "outputs": [],
   "source": [
    "# Glorot Initialization\n",
    "limit = sqrt(6 / (self.inputLayerSize + self.hiddenLayerSize))\n",
    "self.W1 = np.random.uniform(-limit, limit, (self.inputLayerSize, self.hiddenLayerSize))\n",
    "\n",
    "limit = sqrt(6 / (self.hiddenLayerSize + self.outputLayerSize))\n",
    "self.W2 = np.random.uniform(-limit, limit, (self.hiddenLayerSize, self.outputLayerSize))"
   ]
  }
 ],
 "metadata": {
  "kernelspec": {
   "display_name": "Python 3",
   "language": "python",
   "name": "python3"
  },
  "language_info": {
   "codemirror_mode": {
    "name": "ipython",
    "version": 3
   },
   "file_extension": ".py",
   "mimetype": "text/x-python",
   "name": "python",
   "nbconvert_exporter": "python",
   "pygments_lexer": "ipython3",
   "version": "3.5.2"
  }
 },
 "nbformat": 4,
 "nbformat_minor": 2
}
