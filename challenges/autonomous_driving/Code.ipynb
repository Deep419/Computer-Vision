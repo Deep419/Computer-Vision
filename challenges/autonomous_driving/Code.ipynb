{
 "cells": [
  {
   "cell_type": "code",
   "execution_count": 5,
   "metadata": {},
   "outputs": [],
   "source": [
    "import numpy as np\n",
    "import cv2\n",
    "from tqdm import tqdm\n",
    "import time\n",
    "import signal"
   ]
  },
  {
   "cell_type": "code",
   "execution_count": null,
   "metadata": {},
   "outputs": [],
   "source": [
    "import numpy as np\n",
    "import cv2\n",
    "from tqdm import tqdm\n",
    "import time\n",
    "import signal\n",
    "\n",
    "def timeout_handler(num, stack):\n",
    "    raise Exception(\"TIMEOUT\")\n",
    "\n",
    "def evaluate(student_file = 'sample_student', \n",
    "             path_to_training_images = 'data/training/images',\n",
    "             training_csv_file = 'data/training/steering_angles.csv', \n",
    "             path_to_testing_images = 'data/training/images',\n",
    "             testing_csv_file = 'data/training/steering_angles.csv', \n",
    "             time_limit = 600):\n",
    "    \n",
    "    '''\n",
    "    Evaluate Student Submission for autonomous driving challenge. \n",
    "    Train and test studen't neural network implementation. \n",
    "    Training time is limited to time_limit seconds, if your code takes \n",
    "    longer than this, it will be terminated and no score will be recorded.\n",
    "    '''\n",
    "    \n",
    "    #Import student methods:\n",
    "    train = getattr(__import__(student_file, 'train'), 'train')\n",
    "    predict = getattr(__import__(student_file, 'predict'), 'predict')\n",
    "    \n",
    "    #Setup timout handler - I think this will only work on unix based systems:\n",
    "    signal.signal(signal.SIGALRM, timeout_handler)\n",
    "    signal.alarm(time_limit)\n",
    "    \n",
    "    try:\n",
    "        print(\"Training your network, start time: %s\" % time.strftime(\"%H:%M:%S\"))\n",
    "        NN = train(path_to_images = path_to_training_images,\n",
    "                   csv_file = training_csv_file)\n",
    "        \n",
    "    finally:\n",
    "        signal.alarm(0)\n",
    "        print(\"Ending Time: %s\" % time.strftime(\"%H:%M:%S\"))\n",
    "        \n",
    "    print('Training Complete! \\n')\n",
    "    \n",
    "    print('Measuring performance...')\n",
    "    ## Measure Performance:\n",
    "    data = np.genfromtxt(testing_csv_file, delimiter = ',')\n",
    "    frame_nums = data[:,0]\n",
    "    steering_angles = data[:,1]\n",
    "\n",
    "    predicted_angles = []\n",
    "    for frame_num in tqdm(frame_nums):\n",
    "        im_path = path_to_testing_images + '/' + str(int(frame_num)).zfill(4) + '.jpg'\n",
    "        predicted_angles.append(predict(NN, im_path))\n",
    "        \n",
    "    RMSE = np.sqrt(np.mean((np.array(predicted_angles)- steering_angles)**2))\n",
    "    RMSE = round(RMSE, 3)\n",
    "    print('Test Set RMSE = ' + str(RMSE) + ' degrees.')\n",
    "\n",
    "    return RMSE\n",
    "\n",
    "def calculate_score(RMSE):\n",
    "    score = 0\n",
    "    if RMSE <= 12.5:\n",
    "        score = 10\n",
    "    elif RMSE <= 15:\n",
    "        score = 9\n",
    "    elif RMSE <= 20:\n",
    "        score = 8\n",
    "    elif RMSE <= 25:\n",
    "        score = 7\n",
    "    elif RMSE <= 30:\n",
    "        score = 6\n",
    "    elif RMSE <= 40:\n",
    "        score = 5\n",
    "    else:\n",
    "        score = 4\n",
    "    return score\n",
    "\n",
    "\n",
    "if __name__ == '__main__':\n",
    "    program_start = time.time()\n",
    "    RMSE = evaluate(student_file='sample_student', \n",
    "                    path_to_training_images = 'data/training/images',\n",
    "                    training_csv_file = 'data/training/steering_angles.csv', \n",
    "                    path_to_testing_images = 'data/training/images',\n",
    "                    testing_csv_file = 'data/training/steering_angles.csv', \n",
    "                    time_limit = 600)\n",
    "    \n",
    "    score = calculate_score(RMSE)\n",
    "    program_end = time.time()\n",
    "    total_time = round(program_end - program_start,2)\n",
    "    \n",
    "    print(\"Execution time (seconds) = \", total_time)\n",
    "    print(\"Score = \", score)"
   ]
  },
  {
   "cell_type": "code",
   "execution_count": 6,
   "metadata": {},
   "outputs": [
    {
     "name": "stdout",
     "output_type": "stream",
     "text": [
      "Populating the interactive namespace from numpy and matplotlib\n"
     ]
    }
   ],
   "source": [
    "from matplotlib import pyplot as plt\n",
    "from scipy import optimize\n",
    "%pylab inline\n",
    "import pylab as pl\n",
    "from IPython import display"
   ]
  },
  {
   "cell_type": "code",
   "execution_count": 7,
   "metadata": {},
   "outputs": [],
   "source": [
    "student_file = 'sample_student'\n",
    "path_to_training_images = 'data/training/images'\n",
    "training_csv_file = 'data/training/steering_angles.csv'\n",
    "path_to_testing_images = 'data/training/images'\n",
    "testing_csv_file = 'data/training/steering_angles.csv'\n",
    "time_limit = 600"
   ]
  },
  {
   "cell_type": "code",
   "execution_count": 8,
   "metadata": {},
   "outputs": [
    {
     "name": "stdout",
     "output_type": "stream",
     "text": [
      "(1500,)\n"
     ]
    }
   ],
   "source": [
    "data = np.genfromtxt(training_csv_file, delimiter = ',')\n",
    "frame_nums = data[:,0]\n",
    "steering_angles = data[:,1]\n",
    "print(steering_angles.shape)"
   ]
  },
  {
   "cell_type": "code",
   "execution_count": 9,
   "metadata": {},
   "outputs": [],
   "source": [
    "train_im = np.empty((1500, 3840))\n",
    "for i in range(1500):\n",
    "    im_full = cv2.imread(path_to_training_images + '/' \n",
    "                     + str(int(frame_nums[i])).zfill(4) + '.jpg')\n",
    "    im_full = cv2.resize(im_full, (60, 64),interpolation = cv2.INTER_AREA)\n",
    "    im_full = cv2.cvtColor(im_full, cv2.COLOR_BGR2GRAY)\n",
    "    im_full = np.ravel(im_full)\n",
    "    im_full = im_full/255\n",
    "    train_im[i] = im_full\n",
    "# test_im = np.empty((500, 3840))\n",
    "# for i in range(1000,1500):\n",
    "#     im_full = cv2.imread(path_to_training_images + '/' \n",
    "#                      + str(int(frame_nums[i])).zfill(4) + '.jpg')\n",
    "#     im_full = cv2.resize(im_full, (60, 64),interpolation = cv2.INTER_AREA)\n",
    "#     im_full = cv2.cvtColor(im_full, cv2.COLOR_BGR2GRAY)\n",
    "#     im_full = np.ravel(im_full)\n",
    "#     im_full = im_full/255\n",
    "#     test_im[i-1000] = im_full"
   ]
  },
  {
   "cell_type": "code",
   "execution_count": null,
   "metadata": {},
   "outputs": [],
   "source": []
  },
  {
   "cell_type": "code",
   "execution_count": null,
   "metadata": {},
   "outputs": [],
   "source": [
    "# im_full = cv2.imread(path_to_training_images + '/' \n",
    "#                      + str(int(frame_nums[10])).zfill(4) + '.jpg')\n",
    "# #inter_area better for shrinking\n",
    "# im_full1 = cv2.resize(im_full, (60, 64),interpolation = cv2.INTER_AREA)\n",
    "# im_full2 = cv2.resize(im_full, (60, 64))\n",
    "# figure(0,(20,20))\n",
    "# subplot(1,2,1)\n",
    "# imshow(im_full1)\n",
    "# subplot(1,2,2)\n",
    "# imshow(im_full2)"
   ]
  },
  {
   "cell_type": "code",
   "execution_count": 10,
   "metadata": {},
   "outputs": [
    {
     "name": "stdout",
     "output_type": "stream",
     "text": [
      "[-180.         -174.28571429 -168.57142857 -162.85714286 -157.14285714\n",
      " -151.42857143 -145.71428571 -140.         -134.28571429 -128.57142857\n",
      " -122.85714286 -117.14285714 -111.42857143 -105.71428571 -100.\n",
      "  -94.28571429  -88.57142857  -82.85714286  -77.14285714  -71.42857143\n",
      "  -65.71428571  -60.          -54.28571429  -48.57142857  -42.85714286\n",
      "  -37.14285714  -31.42857143  -25.71428571  -20.          -14.28571429\n",
      "   -8.57142857   -2.85714286    2.85714286    8.57142857   14.28571429\n",
      "   20.           25.71428571   31.42857143   37.14285714   42.85714286\n",
      "   48.57142857   54.28571429   60.           65.71428571   71.42857143\n",
      "   77.14285714   82.85714286   88.57142857   94.28571429  100.\n",
      "  105.71428571  111.42857143  117.14285714  122.85714286  128.57142857\n",
      "  134.28571429  140.          145.71428571  151.42857143  157.14285714\n",
      "  162.85714286  168.57142857  174.28571429  180.        ]\n"
     ]
    }
   ],
   "source": [
    "steering_angles[879]\n",
    "bins = numpy.linspace(-180,180,64)\n",
    "print(bins)"
   ]
  },
  {
   "cell_type": "code",
   "execution_count": 11,
   "metadata": {},
   "outputs": [
    {
     "name": "stdout",
     "output_type": "stream",
     "text": [
      "[[0.   0.   0.   0.   0.   0.   0.   0.   0.   0.   0.   0.   0.   0.\n",
      "  0.   0.   0.   0.   0.   0.   0.   0.   0.   0.   0.   0.   0.   0.1\n",
      "  0.32 0.61 0.89 1.   0.89 0.61 0.32 0.1  0.   0.   0.   0.   0.   0.\n",
      "  0.   0.   0.   0.   0.   0.   0.   0.   0.   0.   0.   0.   0.   0.\n",
      "  0.   0.   0.   0.   0.   0.   0.   0.  ]]\n"
     ]
    }
   ],
   "source": [
    "stand = np.zeros((1,64))\n",
    "stand[0][27:36]=[0.1,0.32,0.61,0.89,1,0.89,0.61,0.32,0.1]\n",
    "# stand[1][31]=1\n",
    "print(stand)"
   ]
  },
  {
   "cell_type": "code",
   "execution_count": 12,
   "metadata": {},
   "outputs": [],
   "source": [
    "angle_bins = np.zeros((1500, 64))\n",
    "bins = numpy.linspace(-180,180,64)\n",
    "pos = numpy.digitize(steering_angles, bins)\n",
    "stand = np.zeros((1,64))\n",
    "stand[0][27:36]=[0.1,0.32,0.61,0.89,1,0.89,0.61,0.32,0.1]\n",
    "for i in range(1500):\n",
    "    angle_bins[i] = np.roll(stand,pos[i]-32)\n",
    "#     angle = steering_angles[i]\n",
    "#     print(range(-180,180,5.625))"
   ]
  },
  {
   "cell_type": "code",
   "execution_count": 13,
   "metadata": {},
   "outputs": [
    {
     "data": {
      "text/plain": [
       "array([0.61, 0.89, 1.  , 0.89, 0.61, 0.32, 0.1 , 0.  , 0.  , 0.  , 0.  ,\n",
       "       0.  , 0.  , 0.  , 0.  , 0.  , 0.  , 0.  , 0.  , 0.  , 0.  , 0.  ,\n",
       "       0.  , 0.  , 0.  , 0.  , 0.  , 0.  , 0.  , 0.  , 0.  , 0.  , 0.  ,\n",
       "       0.  , 0.  , 0.  , 0.  , 0.  , 0.  , 0.  , 0.  , 0.  , 0.  , 0.  ,\n",
       "       0.  , 0.  , 0.  , 0.  , 0.  , 0.  , 0.  , 0.  , 0.  , 0.  , 0.  ,\n",
       "       0.  , 0.  , 0.  , 0.  , 0.  , 0.  , 0.  , 0.1 , 0.32])"
      ]
     },
     "execution_count": 13,
     "metadata": {},
     "output_type": "execute_result"
    }
   ],
   "source": [
    "angle_bins[879]"
   ]
  },
  {
   "cell_type": "code",
   "execution_count": 14,
   "metadata": {},
   "outputs": [
    {
     "data": {
      "text/plain": [
       "(1500, 64)"
      ]
     },
     "execution_count": 14,
     "metadata": {},
     "output_type": "execute_result"
    }
   ],
   "source": [
    "angle_bins.shape"
   ]
  },
  {
   "cell_type": "code",
   "execution_count": 15,
   "metadata": {},
   "outputs": [
    {
     "name": "stdout",
     "output_type": "stream",
     "text": [
      "(1500, 64)\n"
     ]
    }
   ],
   "source": [
    "train_an = angle_bins\n",
    "# test_an = angle_bins[1000:1500]\n",
    "print(train_an.shape)"
   ]
  },
  {
   "cell_type": "code",
   "execution_count": 16,
   "metadata": {},
   "outputs": [],
   "source": [
    "# im_full = cv2.imread(path_to_training_images + '/' + str(int(frame_nums[0])).zfill(4) + '.jpg')\n",
    "# im_full2 = cv2.imread(path_to_training_images + '/' + str(int(frame_nums[10])).zfill(4) + '.jpg')\n",
    "# im_full = cv2.resize(im_full, (60, 64)) \n",
    "# im_full2 = cv2.resize(im_full2, (60, 64)) \n",
    "# im_full = cv2.cvtColor(im_full, cv2.COLOR_BGR2GRAY)\n",
    "# im_full2 = cv2.cvtColor(im_full2, cv2.COLOR_BGR2GRAY)\n",
    "# im_full = np.squeeze(np.reshape(im_full,60*64))\n",
    "# im_full2= np.squeeze(np.reshape(im_full2,60*64))"
   ]
  },
  {
   "cell_type": "code",
   "execution_count": 17,
   "metadata": {},
   "outputs": [
    {
     "name": "stdout",
     "output_type": "stream",
     "text": [
      "(1500, 3840)\n"
     ]
    }
   ],
   "source": [
    "print(train_im.shape)"
   ]
  },
  {
   "cell_type": "code",
   "execution_count": null,
   "metadata": {},
   "outputs": [],
   "source": [
    "# NN = NeuralNetwork()\n",
    "# # grads = NN.computeGradients(X, y)\n",
    "# # NN.setParams(grads)\n",
    "# T = trainer(NN)\n",
    "# T.train(train_im,train_an,test_im,test_an)"
   ]
  },
  {
   "cell_type": "code",
   "execution_count": null,
   "metadata": {},
   "outputs": [],
   "source": [
    "# fig = figure(0, (12, 8))\n",
    "# plot(test_an[499], linewidth = 3)\n",
    "# grid(1)\n",
    "# xlabel('Iterations')\n",
    "# ylabel('Loss');"
   ]
  },
  {
   "cell_type": "code",
   "execution_count": null,
   "metadata": {},
   "outputs": [],
   "source": [
    "# X = train_im\n",
    "# y = train_an\n",
    "# NN = Neural_Network(Lambda=0.0001)\n",
    "# num_iterations = 5000\n",
    "# alpha = 1e-4\n",
    "# beta1= 0.9\n",
    "# beta2= 0.999\n",
    "# epsilon= 1e-08\n",
    "\n",
    "# # # grads = NN.computeGradients(X = X, y = y)\n",
    "# # m0 = np.zeros(len(grads)) #Initialize first moment vector\n",
    "# # v0 = np.zeros(len(grads)) #Initialize second moment vector\n",
    "# m0 = np.zeros(len(np.concatenate((NN.W1.ravel(), NN.W2.ravel()))))\n",
    "# v0 = m0\n",
    "# t = 0.0\n",
    "\n",
    "# losses = [] #For visualization\n",
    "# mt = m0\n",
    "# vt = v0\n",
    "\n",
    "# for i in tqdm(range(num_iterations)):\n",
    "#     t += 1\n",
    "#     grads = NN.computeGradients(X = X, y = y)\n",
    "#     mt = beta1*mt + (1-beta1)*grads\n",
    "#     vt = beta2*vt + (1-beta2)*grads**2\n",
    "#     mt_hat = mt/(1-beta1**t)\n",
    "#     vt_hat = vt/(1-beta2**t)\n",
    "    \n",
    "#     params = NN.getParams()\n",
    "#     new_params = params - alpha*mt_hat/(sqrt(vt_hat)+epsilon)\n",
    "#     NN.setParams(new_params)\n",
    "    \n",
    "#     losses.append(NN.costFunction(X = X, y = y))\n",
    "#     if i%50==0:\n",
    "#         losses.append(NN.costFunction(X = train_im, y = train_an))\n",
    "#         pl.plot(losses)\n",
    "#         display.clear_output(wait=True)\n",
    "#         display.display(pl.gcf())\n",
    "    \n",
    "# fig = figure(0, (12, 8))\n",
    "# plot(losses, linewidth = 3)\n",
    "# grid(1)\n",
    "# xlabel('Iterations')\n",
    "# ylabel('Loss');"
   ]
  },
  {
   "cell_type": "code",
   "execution_count": 23,
   "metadata": {},
   "outputs": [],
   "source": [
    "class Neural_Network(object):\n",
    "    def __init__(self, Lambda=0):        \n",
    "        #Define Hyperparameters\n",
    "        self.inputLayerSize = 384\n",
    "        self.outputLayerSize = 64\n",
    "        self.hiddenLayerSize = 30\n",
    "        \n",
    "#         #Weights (parameters)\n",
    "        self.W1 = np.random.randn(self.inputLayerSize,self.hiddenLayerSize)\n",
    "        self.W2 = np.random.randn(self.hiddenLayerSize,self.outputLayerSize)\n",
    "        \n",
    "                #Weights (parameters)\n",
    "#         limit = sqrt(6 / (self.inputLayerSize + self.hiddenLayerSize))\n",
    "#         self.W1 = np.random.uniform(-limit, limit, (self.inputLayerSize, self.hiddenLayerSize))\n",
    "\n",
    "#         limit = sqrt(6 / (self.hiddenLayerSize + self.outputLayerSize))\n",
    "#         self.W2 = np.random.uniform(-limit, limit, (self.hiddenLayerSize, self.outputLayerSize))\n",
    "        \n",
    "        #Regularization Parameter:\n",
    "        self.Lambda = Lambda\n",
    "        \n",
    "    def forward(self, X):\n",
    "        #Propogate inputs though network\n",
    "        self.z2 = np.dot(X, self.W1)\n",
    "        self.a2 = self.sigmoid(self.z2)\n",
    "        self.z3 = np.dot(self.a2, self.W2)\n",
    "        yHat = self.sigmoid(self.z3) \n",
    "        return yHat\n",
    "        \n",
    "    def sigmoid(self, z):\n",
    "        #Apply sigmoid activation function to scalar, vector, or matrix\n",
    "        return 1/(1+np.exp(-z))\n",
    "    \n",
    "    def sigmoidPrime(self,z):\n",
    "        #Gradient of sigmoid\n",
    "        return np.exp(-z)/((1+np.exp(-z))**2)\n",
    "    \n",
    "    def costFunction(self, X, y):\n",
    "        #Compute cost for given X,y, use weights already stored in class.\n",
    "        self.yHat = self.forward(X)\n",
    "        J = 0.5*sum((y-self.yHat)**2)/X.shape[0] + (self.Lambda/2)*(np.sum(self.W1**2)+np.sum(self.W2**2))\n",
    "        return J\n",
    "        \n",
    "    def costFunctionPrime(self, X, y):\n",
    "        #Compute derivative with respect to W and W2 for a given X and y:\n",
    "        self.yHat = self.forward(X)\n",
    "        \n",
    "        delta3 = np.multiply(-(y-self.yHat), self.sigmoidPrime(self.z3))\n",
    "        #Add gradient of regularization term:\n",
    "        dJdW2 = np.dot(self.a2.T, delta3)/X.shape[0] + self.Lambda*self.W2\n",
    "        \n",
    "        delta2 = np.dot(delta3, self.W2.T)*self.sigmoidPrime(self.z2)\n",
    "        #Add gradient of regularization term:\n",
    "        dJdW1 = np.dot(X.T, delta2)/X.shape[0] + self.Lambda*self.W1\n",
    "        \n",
    "        return dJdW1, dJdW2\n",
    "    \n",
    "    #Helper functions for interacting with other methods/classes\n",
    "    def getParams(self):\n",
    "        #Get W1 and W2 Rolled into vector:\n",
    "        params = np.concatenate((self.W1.ravel(), self.W2.ravel()))\n",
    "        return params\n",
    "    \n",
    "    def setParams(self, params):\n",
    "        #Set W1 and W2 using single parameter vector:\n",
    "        W1_start = 0\n",
    "        W1_end = self.hiddenLayerSize*self.inputLayerSize\n",
    "        self.W1 = np.reshape(params[W1_start:W1_end], (self.inputLayerSize, self.hiddenLayerSize))\n",
    "        W2_end = W1_end + self.hiddenLayerSize*self.outputLayerSize\n",
    "        self.W2 = np.reshape(params[W1_end:W2_end], (self.hiddenLayerSize, self.outputLayerSize))\n",
    "        \n",
    "    def computeGradients(self, X, y):\n",
    "        dJdW1, dJdW2 = self.costFunctionPrime(X, y)\n",
    "        return np.concatenate((dJdW1.ravel(), dJdW2.ravel()))"
   ]
  },
  {
   "cell_type": "code",
   "execution_count": 18,
   "metadata": {},
   "outputs": [],
   "source": [
    "class Neural_Network(object):\n",
    "    def __init__(self, Lambda=0):        \n",
    "        #Define Hyperparameters\n",
    "        self.inputLayerSize = 60*64\n",
    "        self.outputLayerSize = 64\n",
    "        self.hiddenLayerSize = 30\n",
    "\n",
    "        # Glorot Initialization\n",
    "        limit = sqrt(6 / (self.inputLayerSize + self.hiddenLayerSize))\n",
    "        self.W1 = np.random.uniform(-limit, limit, (self.inputLayerSize, self.hiddenLayerSize))\n",
    "        limit = sqrt(6 / (self.hiddenLayerSize + self.outputLayerSize))\n",
    "        self.W2 = np.random.uniform(-limit, limit, (self.hiddenLayerSize, self.outputLayerSize))\n",
    "        \n",
    "        #Regularization Parameter:\n",
    "        self.Lambda = Lambda\n",
    "        \n",
    "    def forward(self, X):\n",
    "        #Propogate inputs though network\n",
    "        self.z2 = np.dot(X, self.W1)\n",
    "        self.a2 = self.sigmoid(self.z2)\n",
    "        self.z3 = np.dot(self.a2, self.W2)\n",
    "        yHat = self.sigmoid(self.z3) \n",
    "        return yHat\n",
    "        \n",
    "    def sigmoid(self, z):\n",
    "        #Apply sigmoid activation function to scalar, vector, or matrix\n",
    "        return 1/(1+np.exp(-z))\n",
    "    \n",
    "    def sigmoidPrime(self,z):\n",
    "        #Gradient of sigmoid\n",
    "        return np.exp(-z)/((1+np.exp(-z))**2)\n",
    "    \n",
    "    def costFunction(self, X, y):\n",
    "        #Compute cost for given X,y, use weights already stored in class.\n",
    "        self.yHat = self.forward(X)\n",
    "        J = 0.5*sum((y-self.yHat)**2)/X.shape[0] + (self.Lambda/2)*(np.sum(self.W1**2)+np.sum(self.W2**2))\n",
    "        return J\n",
    "        \n",
    "    def costFunctionPrime(self, X, y):\n",
    "        #Compute derivative with respect to W and W2 for a given X and y:\n",
    "        self.yHat = self.forward(X)\n",
    "        \n",
    "        delta3 = np.multiply(-(y-self.yHat), self.sigmoidPrime(self.z3))\n",
    "        #Add gradient of regularization term:\n",
    "        dJdW2 = np.dot(self.a2.T, delta3)/X.shape[0] + self.Lambda*self.W2\n",
    "        delta2 = np.dot(delta3, self.W2.T)*self.sigmoidPrime(self.z2)\n",
    "        #Add gradient of regularization term:\n",
    "        dJdW1 = np.dot(X.T, delta2)/X.shape[0] + self.Lambda*self.W1\n",
    "        \n",
    "        return dJdW1, dJdW2\n",
    "    \n",
    "    #Helper functions for interacting with other methods/classes\n",
    "    def getParams(self):\n",
    "        #Get W1 and W2 Rolled into vector:\n",
    "        params = np.concatenate((self.W1.ravel(), self.W2.ravel()))\n",
    "        return params\n",
    "    \n",
    "    def setParams(self, params):\n",
    "        #Set W1 and W2 using single parameter vector:\n",
    "        W1_start = 0\n",
    "        W1_end = self.hiddenLayerSize*self.inputLayerSize\n",
    "        self.W1 = np.reshape(params[W1_start:W1_end], \\\n",
    "                             (self.inputLayerSize, self.hiddenLayerSize))\n",
    "        W2_end = W1_end + self.hiddenLayerSize*self.outputLayerSize\n",
    "        self.W2 = np.reshape(params[W1_end:W2_end], \\\n",
    "                             (self.hiddenLayerSize, self.outputLayerSize))\n",
    "        \n",
    "    def computeGradients(self, X, y):\n",
    "        dJdW1, dJdW2 = self.costFunctionPrime(X, y)\n",
    "        return np.concatenate((dJdW1.ravel(), dJdW2.ravel()))"
   ]
  },
  {
   "cell_type": "code",
   "execution_count": 24,
   "metadata": {},
   "outputs": [],
   "source": [
    "def train_func(train_im, train_an):\n",
    "    X = train_im\n",
    "    y = train_an\n",
    "    NN=Neural_Network(Lambda=0.0001)\n",
    "    num_iterations = 2000\n",
    "    #alpha = 1e-4\n",
    "    alpha = 1e-3\n",
    "    beta1= 0.4\n",
    "    beta2= 0.97\n",
    "    epsilon= 1e-08\n",
    "\n",
    "    m0 = np.zeros(len(np.concatenate((NN.W1.ravel(), NN.W2.ravel()))))\n",
    "    grads =  NN.computeGradients(X = X, y = y)\n",
    "    m0 = np.zeros(len(grads)) #Initialize first moment vector\n",
    "    print(m0.shape)\n",
    "    v0 = m0\n",
    "    t = 0.0\n",
    "\n",
    "    losses = [] #For visualization\n",
    "    mt = m0\n",
    "    vt = v0\n",
    "\n",
    "    for i in tqdm(range(num_iterations)):\n",
    "        t += 1\n",
    "        grads = NN.computeGradients(X = X, y = y)\n",
    "        mt = beta1*mt + (1-beta1)*grads\n",
    "        vt = beta2*vt + (1-beta2)*grads**2\n",
    "        mt_hat = mt/(1-beta1**t)\n",
    "        vt_hat = vt/(1-beta2**t)\n",
    "\n",
    "        params = NN.getParams()\n",
    "        new_params = params - alpha*mt_hat/(sqrt(vt_hat)+epsilon)\n",
    "        NN.setParams(new_params)\n",
    "        predicted_angles=[]\n",
    "        Encodedpredict=NN.forward(X)\n",
    "        losses.append(NN.costFunction(X = X, y = y))\n",
    "        #     print(Encodedpredict)\n",
    "        for predicted in Encodedpredict:\n",
    "            predicted_a=bins[np.argmax(predicted)]   \n",
    "            predicted_angles.append(predicted_a)  \n",
    "        RMSE = np.sqrt(np.mean((np.array(predicted_angles) - steering_angles)**2))\n",
    "    #print('Test Set RMSE = ' + str(RMSE) + ' degrees.')\n",
    "    #         print(\"LOSS: {} -> Loss: {}\".format(i, RMSE))\n",
    "    \n",
    "    return NN, losses\n",
    "\n"
   ]
  },
  {
   "cell_type": "code",
   "execution_count": null,
   "metadata": {},
   "outputs": [],
   "source": [
    "im_full = cv2.imread(path_to_training_images + '/' \n",
    "                 + str(int(frame_nums[10])).zfill(4) + '.jpg')\n",
    "#inter_area better for shrinking\n",
    "im_full = cv2.resize(im_full, (60, 64),interpolation = cv2.INTER_AREA)\n",
    "im_full = cv2.cvtColor(im_full, cv2.COLOR_BGR2GRAY)\n",
    "im_full = np.ravel(im_full)\n",
    "im_full = im_full/255\n",
    "im_full.shape"
   ]
  },
  {
   "cell_type": "code",
   "execution_count": null,
   "metadata": {},
   "outputs": [],
   "source": [
    "T,loss = NN.forward(im_full)\n",
    "T"
   ]
  },
  {
   "cell_type": "code",
   "execution_count": 25,
   "metadata": {},
   "outputs": [
    {
     "ename": "ValueError",
     "evalue": "shapes (1500,3840) and (384,30) not aligned: 3840 (dim 1) != 384 (dim 0)",
     "output_type": "error",
     "traceback": [
      "\u001b[0;31m---------------------------------------------------------------------------\u001b[0m",
      "\u001b[0;31mValueError\u001b[0m                                Traceback (most recent call last)",
      "\u001b[0;32m<ipython-input-25-d8e7e0d4d53c>\u001b[0m in \u001b[0;36m<module>\u001b[0;34m\u001b[0m\n\u001b[0;32m----> 1\u001b[0;31m \u001b[0mnn\u001b[0m\u001b[0;34m,\u001b[0m\u001b[0mloss\u001b[0m \u001b[0;34m=\u001b[0m \u001b[0mtrain_func\u001b[0m\u001b[0;34m(\u001b[0m\u001b[0mtrain_im\u001b[0m\u001b[0;34m,\u001b[0m\u001b[0mtrain_an\u001b[0m\u001b[0;34m)\u001b[0m\u001b[0;34m\u001b[0m\u001b[0m\n\u001b[0m",
      "\u001b[0;32m<ipython-input-24-1091e7f5db56>\u001b[0m in \u001b[0;36mtrain_func\u001b[0;34m(train_im, train_an)\u001b[0m\n\u001b[1;32m     11\u001b[0m \u001b[0;34m\u001b[0m\u001b[0m\n\u001b[1;32m     12\u001b[0m     \u001b[0mm0\u001b[0m \u001b[0;34m=\u001b[0m \u001b[0mnp\u001b[0m\u001b[0;34m.\u001b[0m\u001b[0mzeros\u001b[0m\u001b[0;34m(\u001b[0m\u001b[0mlen\u001b[0m\u001b[0;34m(\u001b[0m\u001b[0mnp\u001b[0m\u001b[0;34m.\u001b[0m\u001b[0mconcatenate\u001b[0m\u001b[0;34m(\u001b[0m\u001b[0;34m(\u001b[0m\u001b[0mNN\u001b[0m\u001b[0;34m.\u001b[0m\u001b[0mW1\u001b[0m\u001b[0;34m.\u001b[0m\u001b[0mravel\u001b[0m\u001b[0;34m(\u001b[0m\u001b[0;34m)\u001b[0m\u001b[0;34m,\u001b[0m \u001b[0mNN\u001b[0m\u001b[0;34m.\u001b[0m\u001b[0mW2\u001b[0m\u001b[0;34m.\u001b[0m\u001b[0mravel\u001b[0m\u001b[0;34m(\u001b[0m\u001b[0;34m)\u001b[0m\u001b[0;34m)\u001b[0m\u001b[0;34m)\u001b[0m\u001b[0;34m)\u001b[0m\u001b[0;34m)\u001b[0m\u001b[0;34m\u001b[0m\u001b[0m\n\u001b[0;32m---> 13\u001b[0;31m     \u001b[0mgrads\u001b[0m \u001b[0;34m=\u001b[0m  \u001b[0mNN\u001b[0m\u001b[0;34m.\u001b[0m\u001b[0mcomputeGradients\u001b[0m\u001b[0;34m(\u001b[0m\u001b[0mX\u001b[0m \u001b[0;34m=\u001b[0m \u001b[0mX\u001b[0m\u001b[0;34m,\u001b[0m \u001b[0my\u001b[0m \u001b[0;34m=\u001b[0m \u001b[0my\u001b[0m\u001b[0;34m)\u001b[0m\u001b[0;34m\u001b[0m\u001b[0m\n\u001b[0m\u001b[1;32m     14\u001b[0m     \u001b[0mm0\u001b[0m \u001b[0;34m=\u001b[0m \u001b[0mnp\u001b[0m\u001b[0;34m.\u001b[0m\u001b[0mzeros\u001b[0m\u001b[0;34m(\u001b[0m\u001b[0mlen\u001b[0m\u001b[0;34m(\u001b[0m\u001b[0mgrads\u001b[0m\u001b[0;34m)\u001b[0m\u001b[0;34m)\u001b[0m \u001b[0;31m#Initialize first moment vector\u001b[0m\u001b[0;34m\u001b[0m\u001b[0m\n\u001b[1;32m     15\u001b[0m     \u001b[0mprint\u001b[0m\u001b[0;34m(\u001b[0m\u001b[0mm0\u001b[0m\u001b[0;34m.\u001b[0m\u001b[0mshape\u001b[0m\u001b[0;34m)\u001b[0m\u001b[0;34m\u001b[0m\u001b[0m\n",
      "\u001b[0;32m<ipython-input-23-5d5f83fa454b>\u001b[0m in \u001b[0;36mcomputeGradients\u001b[0;34m(self, X, y)\u001b[0m\n\u001b[1;32m     71\u001b[0m \u001b[0;34m\u001b[0m\u001b[0m\n\u001b[1;32m     72\u001b[0m     \u001b[0;32mdef\u001b[0m \u001b[0mcomputeGradients\u001b[0m\u001b[0;34m(\u001b[0m\u001b[0mself\u001b[0m\u001b[0;34m,\u001b[0m \u001b[0mX\u001b[0m\u001b[0;34m,\u001b[0m \u001b[0my\u001b[0m\u001b[0;34m)\u001b[0m\u001b[0;34m:\u001b[0m\u001b[0;34m\u001b[0m\u001b[0m\n\u001b[0;32m---> 73\u001b[0;31m         \u001b[0mdJdW1\u001b[0m\u001b[0;34m,\u001b[0m \u001b[0mdJdW2\u001b[0m \u001b[0;34m=\u001b[0m \u001b[0mself\u001b[0m\u001b[0;34m.\u001b[0m\u001b[0mcostFunctionPrime\u001b[0m\u001b[0;34m(\u001b[0m\u001b[0mX\u001b[0m\u001b[0;34m,\u001b[0m \u001b[0my\u001b[0m\u001b[0;34m)\u001b[0m\u001b[0;34m\u001b[0m\u001b[0m\n\u001b[0m\u001b[1;32m     74\u001b[0m         \u001b[0;32mreturn\u001b[0m \u001b[0mnp\u001b[0m\u001b[0;34m.\u001b[0m\u001b[0mconcatenate\u001b[0m\u001b[0;34m(\u001b[0m\u001b[0;34m(\u001b[0m\u001b[0mdJdW1\u001b[0m\u001b[0;34m.\u001b[0m\u001b[0mravel\u001b[0m\u001b[0;34m(\u001b[0m\u001b[0;34m)\u001b[0m\u001b[0;34m,\u001b[0m \u001b[0mdJdW2\u001b[0m\u001b[0;34m.\u001b[0m\u001b[0mravel\u001b[0m\u001b[0;34m(\u001b[0m\u001b[0;34m)\u001b[0m\u001b[0;34m)\u001b[0m\u001b[0;34m)\u001b[0m\u001b[0;34m\u001b[0m\u001b[0m\n",
      "\u001b[0;32m<ipython-input-23-5d5f83fa454b>\u001b[0m in \u001b[0;36mcostFunctionPrime\u001b[0;34m(self, X, y)\u001b[0m\n\u001b[1;32m     44\u001b[0m     \u001b[0;32mdef\u001b[0m \u001b[0mcostFunctionPrime\u001b[0m\u001b[0;34m(\u001b[0m\u001b[0mself\u001b[0m\u001b[0;34m,\u001b[0m \u001b[0mX\u001b[0m\u001b[0;34m,\u001b[0m \u001b[0my\u001b[0m\u001b[0;34m)\u001b[0m\u001b[0;34m:\u001b[0m\u001b[0;34m\u001b[0m\u001b[0m\n\u001b[1;32m     45\u001b[0m         \u001b[0;31m#Compute derivative with respect to W and W2 for a given X and y:\u001b[0m\u001b[0;34m\u001b[0m\u001b[0;34m\u001b[0m\u001b[0m\n\u001b[0;32m---> 46\u001b[0;31m         \u001b[0mself\u001b[0m\u001b[0;34m.\u001b[0m\u001b[0myHat\u001b[0m \u001b[0;34m=\u001b[0m \u001b[0mself\u001b[0m\u001b[0;34m.\u001b[0m\u001b[0mforward\u001b[0m\u001b[0;34m(\u001b[0m\u001b[0mX\u001b[0m\u001b[0;34m)\u001b[0m\u001b[0;34m\u001b[0m\u001b[0m\n\u001b[0m\u001b[1;32m     47\u001b[0m \u001b[0;34m\u001b[0m\u001b[0m\n\u001b[1;32m     48\u001b[0m         \u001b[0mdelta3\u001b[0m \u001b[0;34m=\u001b[0m \u001b[0mnp\u001b[0m\u001b[0;34m.\u001b[0m\u001b[0mmultiply\u001b[0m\u001b[0;34m(\u001b[0m\u001b[0;34m-\u001b[0m\u001b[0;34m(\u001b[0m\u001b[0my\u001b[0m\u001b[0;34m-\u001b[0m\u001b[0mself\u001b[0m\u001b[0;34m.\u001b[0m\u001b[0myHat\u001b[0m\u001b[0;34m)\u001b[0m\u001b[0;34m,\u001b[0m \u001b[0mself\u001b[0m\u001b[0;34m.\u001b[0m\u001b[0msigmoidPrime\u001b[0m\u001b[0;34m(\u001b[0m\u001b[0mself\u001b[0m\u001b[0;34m.\u001b[0m\u001b[0mz3\u001b[0m\u001b[0;34m)\u001b[0m\u001b[0;34m)\u001b[0m\u001b[0;34m\u001b[0m\u001b[0m\n",
      "\u001b[0;32m<ipython-input-23-5d5f83fa454b>\u001b[0m in \u001b[0;36mforward\u001b[0;34m(self, X)\u001b[0m\n\u001b[1;32m     22\u001b[0m     \u001b[0;32mdef\u001b[0m \u001b[0mforward\u001b[0m\u001b[0;34m(\u001b[0m\u001b[0mself\u001b[0m\u001b[0;34m,\u001b[0m \u001b[0mX\u001b[0m\u001b[0;34m)\u001b[0m\u001b[0;34m:\u001b[0m\u001b[0;34m\u001b[0m\u001b[0m\n\u001b[1;32m     23\u001b[0m         \u001b[0;31m#Propogate inputs though network\u001b[0m\u001b[0;34m\u001b[0m\u001b[0;34m\u001b[0m\u001b[0m\n\u001b[0;32m---> 24\u001b[0;31m         \u001b[0mself\u001b[0m\u001b[0;34m.\u001b[0m\u001b[0mz2\u001b[0m \u001b[0;34m=\u001b[0m \u001b[0mnp\u001b[0m\u001b[0;34m.\u001b[0m\u001b[0mdot\u001b[0m\u001b[0;34m(\u001b[0m\u001b[0mX\u001b[0m\u001b[0;34m,\u001b[0m \u001b[0mself\u001b[0m\u001b[0;34m.\u001b[0m\u001b[0mW1\u001b[0m\u001b[0;34m)\u001b[0m\u001b[0;34m\u001b[0m\u001b[0m\n\u001b[0m\u001b[1;32m     25\u001b[0m         \u001b[0mself\u001b[0m\u001b[0;34m.\u001b[0m\u001b[0ma2\u001b[0m \u001b[0;34m=\u001b[0m \u001b[0mself\u001b[0m\u001b[0;34m.\u001b[0m\u001b[0msigmoid\u001b[0m\u001b[0;34m(\u001b[0m\u001b[0mself\u001b[0m\u001b[0;34m.\u001b[0m\u001b[0mz2\u001b[0m\u001b[0;34m)\u001b[0m\u001b[0;34m\u001b[0m\u001b[0m\n\u001b[1;32m     26\u001b[0m         \u001b[0mself\u001b[0m\u001b[0;34m.\u001b[0m\u001b[0mz3\u001b[0m \u001b[0;34m=\u001b[0m \u001b[0mnp\u001b[0m\u001b[0;34m.\u001b[0m\u001b[0mdot\u001b[0m\u001b[0;34m(\u001b[0m\u001b[0mself\u001b[0m\u001b[0;34m.\u001b[0m\u001b[0ma2\u001b[0m\u001b[0;34m,\u001b[0m \u001b[0mself\u001b[0m\u001b[0;34m.\u001b[0m\u001b[0mW2\u001b[0m\u001b[0;34m)\u001b[0m\u001b[0;34m\u001b[0m\u001b[0m\n",
      "\u001b[0;31mValueError\u001b[0m: shapes (1500,3840) and (384,30) not aligned: 3840 (dim 1) != 384 (dim 0)"
     ]
    }
   ],
   "source": [
    "nn,loss = train_func(train_im,train_an)"
   ]
  },
  {
   "cell_type": "code",
   "execution_count": null,
   "metadata": {},
   "outputs": [],
   "source": [
    "nn.forward(im_full)"
   ]
  },
  {
   "cell_type": "code",
   "execution_count": 22,
   "metadata": {},
   "outputs": [
    {
     "data": {
      "text/plain": [
       "[<matplotlib.lines.Line2D at 0x7ff4a42759e8>]"
      ]
     },
     "execution_count": 22,
     "metadata": {},
     "output_type": "execute_result"
    },
    {
     "data": {
      "image/png": "[encoded data removed]",
      "text/plain": [
       "<Figure size 1440x1440 with 1 Axes>"
      ]
     },
     "metadata": {
      "needs_background": "light"
     },
     "output_type": "display_data"
    }
   ],
   "source": [
    "figure(0,(20,20))\n",
    "plot(loss)"
   ]
  },
  {
   "cell_type": "code",
   "execution_count": null,
   "metadata": {},
   "outputs": [],
   "source": []
  }
 ],
 "metadata": {
  "kernelspec": {
   "display_name": "Python 3",
   "language": "python",
   "name": "python3"
  },
  "language_info": {
   "codemirror_mode": {
    "name": "ipython",
    "version": 3
   },
   "file_extension": ".py",
   "mimetype": "text/x-python",
   "name": "python",
   "nbconvert_exporter": "python",
   "pygments_lexer": "ipython3",
   "version": "3.5.2"
  }
 },
 "nbformat": 4,
 "nbformat_minor": 2
}
