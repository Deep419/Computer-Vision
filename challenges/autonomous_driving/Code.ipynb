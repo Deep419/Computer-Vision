{
 "cells": [
  {
   "cell_type": "code",
   "execution_count": 1,
   "metadata": {},
   "outputs": [],
   "source": [
    "import numpy as np\n",
    "import cv2\n",
    "from tqdm import tqdm\n",
    "import time\n",
    "import signal"
   ]
  },
  {
   "cell_type": "code",
   "execution_count": null,
   "metadata": {},
   "outputs": [],
   "source": [
    "#Evaluate\n",
    "def timeout_handler(num, stack):\n",
    "    raise Exception(\"TIMEOUT\")\n",
    "\n",
    "def evaluate(student_file = 'sample_student', \n",
    "             path_to_training_images = 'data/training/images',\n",
    "             training_csv_file = 'data/training/steering_angles.csv', \n",
    "             path_to_testing_images = 'data/training/images',\n",
    "             testing_csv_file = 'data/training/steering_angles.csv', \n",
    "             time_limit = 600):\n",
    "    \n",
    "    '''\n",
    "    Evaluate Student Submission for autonomous driving challenge. \n",
    "    Train and test studen't neural network implementation. \n",
    "    Training time is limited to time_limit seconds, if your code takes \n",
    "    longer than this, it will be terminated and no score will be recorded.\n",
    "    '''\n",
    "    \n",
    "    #Import student methods:\n",
    "    train = getattr(__import__(student_file, 'train'), 'train')\n",
    "    predict = getattr(__import__(student_file, 'predict'), 'predict')\n",
    "    \n",
    "    #Setup timout handler - I think this will only work on unix based systems:\n",
    "    signal.signal(signal.SIGALRM, timeout_handler)\n",
    "    signal.alarm(time_limit)\n",
    "    \n",
    "    try:\n",
    "        print(\"Training your network, start time: %s\" % time.strftime(\"%H:%M:%S\"))\n",
    "        NN = train(path_to_images = path_to_training_images,\n",
    "                   csv_file = training_csv_file)\n",
    "\n",
    "    except ValueError as ex:\n",
    "        pass\n",
    "        \n",
    "    finally:\n",
    "        signal.alarm(0)\n",
    "        print(\"Ending Time: %s\" % time.strftime(\"%H:%M:%S\"))\n",
    "        \n",
    "    print('Training Complete! \\n')\n",
    "    \n",
    "    print('Measuring performance...')\n",
    "    ## Measure Performance:\n",
    "    data = np.genfromtxt(testing_csv_file, delimiter = ',')\n",
    "    frame_nums = data[:,0]\n",
    "    steering_angles = data[:,1]\n",
    "\n",
    "    predicted_angles = []\n",
    "    for frame_num in tqdm(frame_nums):\n",
    "        im_path = path_to_testing_images + '/' + str(int(frame_num)).zfill(4) + '.jpg'\n",
    "        predicted_angles.append(predict(NN, im_path))\n",
    "        \n",
    "    RMSE = np.sqrt(np.mean((np.array(predicted_angles)- steering_angles)**2))\n",
    "    RMSE = round(RMSE, 3)\n",
    "    print('Test Set RMSE = ' + str(RMSE) + ' degrees.')\n",
    "\n",
    "    return RMSE\n",
    "\n",
    "def calculate_score(RMSE):\n",
    "    score = 0\n",
    "    if RMSE <= 12.5:\n",
    "        score = 10\n",
    "    elif RMSE <= 15:\n",
    "        score = 9\n",
    "    elif RMSE <= 20:\n",
    "        score = 8\n",
    "    elif RMSE <= 25:\n",
    "        score = 7\n",
    "    elif RMSE <= 30:\n",
    "        score = 6\n",
    "    elif RMSE <= 40:\n",
    "        score = 5\n",
    "    else:\n",
    "        score = 4\n",
    "    return score\n",
    "\n",
    "program_start = time.time()\n",
    "RMSE = evaluate(student_file='sample_student', \n",
    "                path_to_training_images = 'data/training/images',\n",
    "                training_csv_file = 'data/training/steering_angles.csv', \n",
    "                path_to_testing_images = 'data/training/images',\n",
    "                testing_csv_file = 'data/training/steering_angles.csv', \n",
    "                time_limit = 600)\n",
    "\n",
    "score = calculate_score(RMSE)\n",
    "program_end = time.time()\n",
    "total_time = round(program_end - program_start,2)\n",
    "\n",
    "print(\"Execution time (seconds) = \", total_time)\n",
    "print(\"Score = \", score)"
   ]
  },
  {
   "cell_type": "code",
   "execution_count": 2,
   "metadata": {},
   "outputs": [
    {
     "name": "stdout",
     "output_type": "stream",
     "text": [
      "Populating the interactive namespace from numpy and matplotlib\n"
     ]
    }
   ],
   "source": [
    "from matplotlib import pyplot as plt\n",
    "from scipy import optimize\n",
    "%pylab inline\n",
    "import pylab as pl\n",
    "from IPython import display"
   ]
  },
  {
   "cell_type": "code",
   "execution_count": 3,
   "metadata": {},
   "outputs": [],
   "source": [
    "student_file = 'sample_student'\n",
    "path_to_training_images = 'data/training/images'\n",
    "training_csv_file = 'data/training/steering_angles.csv'\n",
    "path_to_testing_images = 'data/training/images'\n",
    "testing_csv_file = 'data/training/steering_angles.csv'\n",
    "time_limit = 600"
   ]
  },
  {
   "cell_type": "code",
   "execution_count": 96,
   "metadata": {},
   "outputs": [
    {
     "name": "stdout",
     "output_type": "stream",
     "text": [
      "(1500, 2)\n"
     ]
    }
   ],
   "source": [
    "data = np.genfromtxt(training_csv_file, delimiter = ',')\n",
    "frame_nums = data[:,0]\n",
    "steering_angles = data[:,1]\n",
    "print(data.shape)"
   ]
  },
  {
   "cell_type": "code",
   "execution_count": 146,
   "metadata": {},
   "outputs": [],
   "source": [
    "train_im = np.empty((1000, 3840))\n",
    "for i in range(1000):\n",
    "    im_full = cv2.imread(path_to_training_images + '/' \n",
    "                     + str(int(frame_nums[i])).zfill(4) + '.jpg')\n",
    "    im_full = cv2.resize(im_full, (60, 64))\n",
    "    im_full = cv2.cvtColor(im_full, cv2.COLOR_BGR2GRAY)\n",
    "    im_full = np.reshape(im_full,60*64)\n",
    "    train_im[i] = im_full[i]\n",
    "test_im = np.empty((500, 3840))\n",
    "for i in range(1000,1500):\n",
    "    im_full = cv2.imread(path_to_training_images + '/' \n",
    "                     + str(int(frame_nums[i])).zfill(4) + '.jpg')\n",
    "    im_full = cv2.resize(im_full, (60, 64))\n",
    "    im_full = cv2.cvtColor(im_full, cv2.COLOR_BGR2GRAY)\n",
    "    im_full = np.reshape(im_full,60*64)\n",
    "    test_im[i-1000] = im_full[i-1000]"
   ]
  },
  {
   "cell_type": "code",
   "execution_count": 104,
   "metadata": {},
   "outputs": [
    {
     "name": "stdout",
     "output_type": "stream",
     "text": [
      "[-180.         -174.28571429 -168.57142857 -162.85714286 -157.14285714\n",
      " -151.42857143 -145.71428571 -140.         -134.28571429 -128.57142857\n",
      " -122.85714286 -117.14285714 -111.42857143 -105.71428571 -100.\n",
      "  -94.28571429  -88.57142857  -82.85714286  -77.14285714  -71.42857143\n",
      "  -65.71428571  -60.          -54.28571429  -48.57142857  -42.85714286\n",
      "  -37.14285714  -31.42857143  -25.71428571  -20.          -14.28571429\n",
      "   -8.57142857   -2.85714286    2.85714286    8.57142857   14.28571429\n",
      "   20.           25.71428571   31.42857143   37.14285714   42.85714286\n",
      "   48.57142857   54.28571429   60.           65.71428571   71.42857143\n",
      "   77.14285714   82.85714286   88.57142857   94.28571429  100.\n",
      "  105.71428571  111.42857143  117.14285714  122.85714286  128.57142857\n",
      "  134.28571429  140.          145.71428571  151.42857143  157.14285714\n",
      "  162.85714286  168.57142857  174.28571429  180.        ]\n"
     ]
    }
   ],
   "source": [
    "steering_angles[879], pos[879]\n",
    "bins = numpy.linspace(-180,180,64)\n",
    "print(bins)"
   ]
  },
  {
   "cell_type": "code",
   "execution_count": 130,
   "metadata": {},
   "outputs": [
    {
     "name": "stdout",
     "output_type": "stream",
     "text": [
      "[[0.   0.   0.   0.   0.   0.   0.   0.   0.   0.   0.   0.   0.   0.\n",
      "  0.   0.   0.   0.   0.   0.   0.   0.   0.   0.   0.   0.   0.   0.1\n",
      "  0.32 0.61 0.89 1.   0.89 0.61 0.32 0.1  0.   0.   0.   0.   0.   0.\n",
      "  0.   0.   0.   0.   0.   0.   0.   0.   0.   0.   0.   0.   0.   0.\n",
      "  0.   0.   0.   0.   0.   0.   0.   0.  ]]\n"
     ]
    }
   ],
   "source": [
    "stand = np.zeros((1,64))\n",
    "stand[0][27:36]=[0.1,0.32,0.61,0.89,1,0.89,0.61,0.32,0.1]\n",
    "# stand[1][31]=1\n",
    "print(stand)"
   ]
  },
  {
   "cell_type": "code",
   "execution_count": 131,
   "metadata": {},
   "outputs": [],
   "source": [
    "angle_bins = np.zeros((1500, 64))\n",
    "bins = numpy.linspace(-180,180,64)\n",
    "pos = numpy.digitize(steering_angles, bins)\n",
    "stand = np.zeros((1,64))\n",
    "stand[0][27:36]=[0.1,0.32,0.61,0.89,1,0.89,0.61,0.32,0.1]\n",
    "for i in range(1500):\n",
    "    angle_bins[i] = np.roll(stand,pos[i]-32)\n",
    "#     angle = steering_angles[i]\n",
    "#     print(range(-180,180,5.625))"
   ]
  },
  {
   "cell_type": "code",
   "execution_count": 133,
   "metadata": {},
   "outputs": [
    {
     "data": {
      "text/plain": [
       "array([0.61, 0.89, 1.  , 0.89, 0.61, 0.32, 0.1 , 0.  , 0.  , 0.  , 0.  ,\n",
       "       0.  , 0.  , 0.  , 0.  , 0.  , 0.  , 0.  , 0.  , 0.  , 0.  , 0.  ,\n",
       "       0.  , 0.  , 0.  , 0.  , 0.  , 0.  , 0.  , 0.  , 0.  , 0.  , 0.  ,\n",
       "       0.  , 0.  , 0.  , 0.  , 0.  , 0.  , 0.  , 0.  , 0.  , 0.  , 0.  ,\n",
       "       0.  , 0.  , 0.  , 0.  , 0.  , 0.  , 0.  , 0.  , 0.  , 0.  , 0.  ,\n",
       "       0.  , 0.  , 0.  , 0.  , 0.  , 0.  , 0.  , 0.1 , 0.32])"
      ]
     },
     "execution_count": 133,
     "metadata": {},
     "output_type": "execute_result"
    }
   ],
   "source": [
    "angle_bins[879]"
   ]
  },
  {
   "cell_type": "code",
   "execution_count": 134,
   "metadata": {},
   "outputs": [
    {
     "data": {
      "text/plain": [
       "(1500, 64)"
      ]
     },
     "execution_count": 134,
     "metadata": {},
     "output_type": "execute_result"
    }
   ],
   "source": [
    "angle_bins.shape"
   ]
  },
  {
   "cell_type": "code",
   "execution_count": 135,
   "metadata": {},
   "outputs": [
    {
     "name": "stdout",
     "output_type": "stream",
     "text": [
      "(1000, 64)\n"
     ]
    }
   ],
   "source": [
    "train_an = angle_bins[0:1000]\n",
    "test_an = angle_bins[1000:1500]\n",
    "print(train_an.shape)"
   ]
  },
  {
   "cell_type": "code",
   "execution_count": 13,
   "metadata": {},
   "outputs": [],
   "source": [
    "# im_full = cv2.imread(path_to_training_images + '/' + str(int(frame_nums[0])).zfill(4) + '.jpg')\n",
    "# im_full2 = cv2.imread(path_to_training_images + '/' + str(int(frame_nums[10])).zfill(4) + '.jpg')\n",
    "# im_full = cv2.resize(im_full, (60, 64)) \n",
    "# im_full2 = cv2.resize(im_full2, (60, 64)) \n",
    "# im_full = cv2.cvtColor(im_full, cv2.COLOR_BGR2GRAY)\n",
    "# im_full2 = cv2.cvtColor(im_full2, cv2.COLOR_BGR2GRAY)\n",
    "# im_full = np.squeeze(np.reshape(im_full,60*64))\n",
    "# im_full2= np.squeeze(np.reshape(im_full2,60*64))"
   ]
  },
  {
   "cell_type": "code",
   "execution_count": 148,
   "metadata": {},
   "outputs": [
    {
     "name": "stdout",
     "output_type": "stream",
     "text": [
      "(1000, 3840)\n"
     ]
    }
   ],
   "source": [
    "print(train_im.shape)"
   ]
  },
  {
   "cell_type": "code",
   "execution_count": 152,
   "metadata": {},
   "outputs": [
    {
     "name": "stderr",
     "output_type": "stream",
     "text": [
      "/home/deep/fall2018/unccv/lib/python3.5/site-packages/ipykernel_launcher.py:24: RuntimeWarning: overflow encountered in exp\n",
      "/home/deep/fall2018/unccv/lib/python3.5/site-packages/ipykernel_launcher.py:28: RuntimeWarning: overflow encountered in exp\n",
      "/home/deep/fall2018/unccv/lib/python3.5/site-packages/ipykernel_launcher.py:28: RuntimeWarning: overflow encountered in square\n",
      "/home/deep/fall2018/unccv/lib/python3.5/site-packages/ipykernel_launcher.py:28: RuntimeWarning: invalid value encountered in true_divide\n"
     ]
    },
    {
     "ename": "MemoryError",
     "evalue": "",
     "output_type": "error",
     "traceback": [
      "\u001b[0;31m---------------------------------------------------------------------------\u001b[0m",
      "\u001b[0;31mMemoryError\u001b[0m                               Traceback (most recent call last)",
      "\u001b[0;32m<ipython-input-152-8e746c86dfdf>\u001b[0m in \u001b[0;36m<module>\u001b[0;34m\u001b[0m\n\u001b[1;32m      3\u001b[0m \u001b[0;31m# NN.setParams(grads)\u001b[0m\u001b[0;34m\u001b[0m\u001b[0;34m\u001b[0m\u001b[0m\n\u001b[1;32m      4\u001b[0m \u001b[0mT\u001b[0m \u001b[0;34m=\u001b[0m \u001b[0mtrainer\u001b[0m\u001b[0;34m(\u001b[0m\u001b[0mNN\u001b[0m\u001b[0;34m)\u001b[0m\u001b[0;34m\u001b[0m\u001b[0m\n\u001b[0;32m----> 5\u001b[0;31m \u001b[0mT\u001b[0m\u001b[0;34m.\u001b[0m\u001b[0mtrain\u001b[0m\u001b[0;34m(\u001b[0m\u001b[0mtrain_im\u001b[0m\u001b[0;34m,\u001b[0m\u001b[0mtrain_an\u001b[0m\u001b[0;34m,\u001b[0m\u001b[0mtest_im\u001b[0m\u001b[0;34m,\u001b[0m\u001b[0mtest_an\u001b[0m\u001b[0;34m)\u001b[0m\u001b[0;34m\u001b[0m\u001b[0m\n\u001b[0m",
      "\u001b[0;32m<ipython-input-142-f53061468223>\u001b[0m in \u001b[0;36mtrain\u001b[0;34m(self, trainX, trainY, testX, testY)\u001b[0m\n\u001b[1;32m     32\u001b[0m         \u001b[0moptions\u001b[0m \u001b[0;34m=\u001b[0m \u001b[0;34m{\u001b[0m\u001b[0;34m'maxiter'\u001b[0m\u001b[0;34m:\u001b[0m \u001b[0;36m200\u001b[0m\u001b[0;34m,\u001b[0m \u001b[0;34m'disp'\u001b[0m \u001b[0;34m:\u001b[0m \u001b[0;32mTrue\u001b[0m\u001b[0;34m}\u001b[0m\u001b[0;34m\u001b[0m\u001b[0m\n\u001b[1;32m     33\u001b[0m         _res = optimize.minimize(self.costFunctionWrapper, params0, jac=True, method='BFGS', \\\n\u001b[0;32m---> 34\u001b[0;31m                                  args=(trainX, trainY), options=options, callback=self.callbackF)\n\u001b[0m\u001b[1;32m     35\u001b[0m \u001b[0;34m\u001b[0m\u001b[0m\n\u001b[1;32m     36\u001b[0m         \u001b[0mself\u001b[0m\u001b[0;34m.\u001b[0m\u001b[0mN\u001b[0m\u001b[0;34m.\u001b[0m\u001b[0msetParams\u001b[0m\u001b[0;34m(\u001b[0m\u001b[0m_res\u001b[0m\u001b[0;34m.\u001b[0m\u001b[0mx\u001b[0m\u001b[0;34m)\u001b[0m\u001b[0;34m\u001b[0m\u001b[0m\n",
      "\u001b[0;32m~/fall2018/unccv/lib/python3.5/site-packages/scipy/optimize/_minimize.py\u001b[0m in \u001b[0;36mminimize\u001b[0;34m(fun, x0, args, method, jac, hess, hessp, bounds, constraints, tol, callback, options)\u001b[0m\n\u001b[1;32m    595\u001b[0m         \u001b[0;32mreturn\u001b[0m \u001b[0m_minimize_cg\u001b[0m\u001b[0;34m(\u001b[0m\u001b[0mfun\u001b[0m\u001b[0;34m,\u001b[0m \u001b[0mx0\u001b[0m\u001b[0;34m,\u001b[0m \u001b[0margs\u001b[0m\u001b[0;34m,\u001b[0m \u001b[0mjac\u001b[0m\u001b[0;34m,\u001b[0m \u001b[0mcallback\u001b[0m\u001b[0;34m,\u001b[0m \u001b[0;34m**\u001b[0m\u001b[0moptions\u001b[0m\u001b[0;34m)\u001b[0m\u001b[0;34m\u001b[0m\u001b[0m\n\u001b[1;32m    596\u001b[0m     \u001b[0;32melif\u001b[0m \u001b[0mmeth\u001b[0m \u001b[0;34m==\u001b[0m \u001b[0;34m'bfgs'\u001b[0m\u001b[0;34m:\u001b[0m\u001b[0;34m\u001b[0m\u001b[0m\n\u001b[0;32m--> 597\u001b[0;31m         \u001b[0;32mreturn\u001b[0m \u001b[0m_minimize_bfgs\u001b[0m\u001b[0;34m(\u001b[0m\u001b[0mfun\u001b[0m\u001b[0;34m,\u001b[0m \u001b[0mx0\u001b[0m\u001b[0;34m,\u001b[0m \u001b[0margs\u001b[0m\u001b[0;34m,\u001b[0m \u001b[0mjac\u001b[0m\u001b[0;34m,\u001b[0m \u001b[0mcallback\u001b[0m\u001b[0;34m,\u001b[0m \u001b[0;34m**\u001b[0m\u001b[0moptions\u001b[0m\u001b[0;34m)\u001b[0m\u001b[0;34m\u001b[0m\u001b[0m\n\u001b[0m\u001b[1;32m    598\u001b[0m     \u001b[0;32melif\u001b[0m \u001b[0mmeth\u001b[0m \u001b[0;34m==\u001b[0m \u001b[0;34m'newton-cg'\u001b[0m\u001b[0;34m:\u001b[0m\u001b[0;34m\u001b[0m\u001b[0m\n\u001b[1;32m    599\u001b[0m         return _minimize_newtoncg(fun, x0, args, jac, hess, hessp, callback,\n",
      "\u001b[0;32m~/fall2018/unccv/lib/python3.5/site-packages/scipy/optimize/optimize.py\u001b[0m in \u001b[0;36m_minimize_bfgs\u001b[0;34m(fun, x0, args, jac, callback, gtol, norm, eps, maxiter, disp, return_all, **unknown_options)\u001b[0m\n\u001b[1;32m    964\u001b[0m     \u001b[0mk\u001b[0m \u001b[0;34m=\u001b[0m \u001b[0;36m0\u001b[0m\u001b[0;34m\u001b[0m\u001b[0m\n\u001b[1;32m    965\u001b[0m     \u001b[0mN\u001b[0m \u001b[0;34m=\u001b[0m \u001b[0mlen\u001b[0m\u001b[0;34m(\u001b[0m\u001b[0mx0\u001b[0m\u001b[0;34m)\u001b[0m\u001b[0;34m\u001b[0m\u001b[0m\n\u001b[0;32m--> 966\u001b[0;31m     \u001b[0mI\u001b[0m \u001b[0;34m=\u001b[0m \u001b[0mnumpy\u001b[0m\u001b[0;34m.\u001b[0m\u001b[0meye\u001b[0m\u001b[0;34m(\u001b[0m\u001b[0mN\u001b[0m\u001b[0;34m,\u001b[0m \u001b[0mdtype\u001b[0m\u001b[0;34m=\u001b[0m\u001b[0mint\u001b[0m\u001b[0;34m)\u001b[0m\u001b[0;34m\u001b[0m\u001b[0m\n\u001b[0m\u001b[1;32m    967\u001b[0m     \u001b[0mHk\u001b[0m \u001b[0;34m=\u001b[0m \u001b[0mI\u001b[0m\u001b[0;34m\u001b[0m\u001b[0m\n\u001b[1;32m    968\u001b[0m \u001b[0;34m\u001b[0m\u001b[0m\n",
      "\u001b[0;32m~/fall2018/unccv/lib/python3.5/site-packages/numpy/lib/twodim_base.py\u001b[0m in \u001b[0;36meye\u001b[0;34m(N, M, k, dtype, order)\u001b[0m\n\u001b[1;32m    184\u001b[0m     \u001b[0;32mif\u001b[0m \u001b[0mM\u001b[0m \u001b[0;32mis\u001b[0m \u001b[0;32mNone\u001b[0m\u001b[0;34m:\u001b[0m\u001b[0;34m\u001b[0m\u001b[0m\n\u001b[1;32m    185\u001b[0m         \u001b[0mM\u001b[0m \u001b[0;34m=\u001b[0m \u001b[0mN\u001b[0m\u001b[0;34m\u001b[0m\u001b[0m\n\u001b[0;32m--> 186\u001b[0;31m     \u001b[0mm\u001b[0m \u001b[0;34m=\u001b[0m \u001b[0mzeros\u001b[0m\u001b[0;34m(\u001b[0m\u001b[0;34m(\u001b[0m\u001b[0mN\u001b[0m\u001b[0;34m,\u001b[0m \u001b[0mM\u001b[0m\u001b[0;34m)\u001b[0m\u001b[0;34m,\u001b[0m \u001b[0mdtype\u001b[0m\u001b[0;34m=\u001b[0m\u001b[0mdtype\u001b[0m\u001b[0;34m,\u001b[0m \u001b[0morder\u001b[0m\u001b[0;34m=\u001b[0m\u001b[0morder\u001b[0m\u001b[0;34m)\u001b[0m\u001b[0;34m\u001b[0m\u001b[0m\n\u001b[0m\u001b[1;32m    187\u001b[0m     \u001b[0;32mif\u001b[0m \u001b[0mk\u001b[0m \u001b[0;34m>=\u001b[0m \u001b[0mM\u001b[0m\u001b[0;34m:\u001b[0m\u001b[0;34m\u001b[0m\u001b[0m\n\u001b[1;32m    188\u001b[0m         \u001b[0;32mreturn\u001b[0m \u001b[0mm\u001b[0m\u001b[0;34m\u001b[0m\u001b[0m\n",
      "\u001b[0;31mMemoryError\u001b[0m: "
     ]
    }
   ],
   "source": [
    "NN = NeuralNetwork()\n",
    "# grads = NN.computeGradients(X, y)\n",
    "# NN.setParams(grads)\n",
    "T = trainer(NN)\n",
    "T.train(train_im,train_an,test_im,test_an)"
   ]
  },
  {
   "cell_type": "code",
   "execution_count": 30,
   "metadata": {},
   "outputs": [
    {
     "data": {
      "image/png": "[encoded data removed]",
      "text/plain": [
       "<Figure size 864x576 with 1 Axes>"
      ]
     },
     "metadata": {
      "needs_background": "light"
     },
     "output_type": "display_data"
    }
   ],
   "source": [
    "fig = figure(0, (12, 8))\n",
    "plot(test_an, linewidth = 3)\n",
    "grid(1)\n",
    "xlabel('Iterations')\n",
    "ylabel('Loss');"
   ]
  },
  {
   "cell_type": "code",
   "execution_count": 155,
   "metadata": {},
   "outputs": [
    {
     "data": {
      "image/png": "[encoded data removed]",
      "text/plain": [
       "<Figure size 432x288 with 1 Axes>"
      ]
     },
     "metadata": {},
     "output_type": "display_data"
    },
    {
     "name": "stderr",
     "output_type": "stream",
     "text": [
      "100%|██████████| 5000/5000 [01:45<00:00, 47.20it/s]\n"
     ]
    },
    {
     "data": {
      "image/png": "[encoded data removed]",
      "text/plain": [
       "<Figure size 864x576 with 1 Axes>"
      ]
     },
     "metadata": {
      "needs_background": "light"
     },
     "output_type": "display_data"
    },
    {
     "data": {
      "image/png": "[encoded data removed]",
      "text/plain": [
       "<Figure size 432x288 with 1 Axes>"
      ]
     },
     "metadata": {
      "needs_background": "light"
     },
     "output_type": "display_data"
    }
   ],
   "source": [
    "X = train_im\n",
    "y = train_an\n",
    "NN = NeuralNetwork()\n",
    "num_iterations = 5000\n",
    "alpha = 1e-4\n",
    "beta1= 0.9\n",
    "beta2= 0.999\n",
    "epsilon= 1e-08\n",
    "\n",
    "grads = NN.computeGradients(X = X, y = y)\n",
    "m0 = np.zeros(len(grads)) #Initialize first moment vector\n",
    "v0 = np.zeros(len(grads)) #Initialize second moment vector\n",
    "t = 0.0\n",
    "\n",
    "losses = [] #For visualization\n",
    "mt = m0\n",
    "vt = v0\n",
    "\n",
    "for i in tqdm(range(num_iterations)):\n",
    "    t += 1\n",
    "    grads = NN.computeGradients(X = X, y = y)\n",
    "    mt = beta1*mt + (1-beta1)*grads\n",
    "    vt = beta2*vt + (1-beta2)*grads**2\n",
    "    mt_hat = mt/(1-beta1**t)\n",
    "    vt_hat = vt/(1-beta2**t)\n",
    "    \n",
    "    params = NN.getParams()\n",
    "    new_params = params - alpha*mt_hat/(sqrt(vt_hat)+epsilon)\n",
    "    NN.setParams(new_params)\n",
    "    \n",
    "    losses.append(NN.costFunction(X = X, y = y))\n",
    "    if i%50==0:\n",
    "        losses.append(NN.costFunction(X = train_im, y = train_an))\n",
    "        pl.plot(losses)\n",
    "        display.clear_output(wait=True)\n",
    "        display.display(pl.gcf())\n",
    "    \n",
    "fig = figure(0, (12, 8))\n",
    "plot(losses, linewidth = 3)\n",
    "grid(1)\n",
    "xlabel('Iterations')\n",
    "ylabel('Loss');"
   ]
  },
  {
   "cell_type": "code",
   "execution_count": null,
   "metadata": {},
   "outputs": [],
   "source": [
    "alpha"
   ]
  },
  {
   "cell_type": "code",
   "execution_count": 141,
   "metadata": {},
   "outputs": [],
   "source": [
    "class Neural_Network(object):\n",
    "    def __init__(self, Lambda=0):        \n",
    "        #Define Hyperparameters\n",
    "        self.inputLayerSize = 3840\n",
    "        self.outputLayerSize = 64\n",
    "        self.hiddenLayerSize = 30\n",
    "        \n",
    "#         #Weights (parameters)\n",
    "        self.W1 = np.random.randn(self.inputLayerSize,self.hiddenLayerSize)\n",
    "        self.W2 = np.random.randn(self.hiddenLayerSize,self.outputLayerSize)\n",
    "        \n",
    "                #Weights (parameters)\n",
    "#         limit = sqrt(6 / (self.inputLayerSize + self.hiddenLayerSize))\n",
    "#         self.W1 = np.random.uniform(-limit, limit, (self.inputLayerSize, self.hiddenLayerSize))\n",
    "\n",
    "#         limit = sqrt(6 / (self.hiddenLayerSize + self.outputLayerSize))\n",
    "#         self.W2 = np.random.uniform(-limit, limit, (self.hiddenLayerSize, self.outputLayerSize))\n",
    "        \n",
    "        #Regularization Parameter:\n",
    "        self.Lambda = Lambda\n",
    "        \n",
    "    def forward(self, X):\n",
    "        #Propogate inputs though network\n",
    "        self.z2 = np.dot(X, self.W1)\n",
    "        self.a2 = self.sigmoid(self.z2)\n",
    "        self.z3 = np.dot(self.a2, self.W2)\n",
    "        yHat = self.sigmoid(self.z3) \n",
    "        return yHat\n",
    "        \n",
    "    def sigmoid(self, z):\n",
    "        #Apply sigmoid activation function to scalar, vector, or matrix\n",
    "        return 1/(1+np.exp(-z))\n",
    "    \n",
    "    def sigmoidPrime(self,z):\n",
    "        #Gradient of sigmoid\n",
    "        return np.exp(-z)/((1+np.exp(-z))**2)\n",
    "    \n",
    "    def costFunction(self, X, y):\n",
    "        #Compute cost for given X,y, use weights already stored in class.\n",
    "        self.yHat = self.forward(X)\n",
    "        J = 0.5*sum((y-self.yHat)**2)/X.shape[0] + (self.Lambda/2)*(np.sum(self.W1**2)+np.sum(self.W2**2))\n",
    "        return J\n",
    "        \n",
    "    def costFunctionPrime(self, X, y):\n",
    "        #Compute derivative with respect to W and W2 for a given X and y:\n",
    "        self.yHat = self.forward(X)\n",
    "        \n",
    "        delta3 = np.multiply(-(y-self.yHat), self.sigmoidPrime(self.z3))\n",
    "        #Add gradient of regularization term:\n",
    "        dJdW2 = np.dot(self.a2.T, delta3)/X.shape[0] + self.Lambda*self.W2\n",
    "        \n",
    "        delta2 = np.dot(delta3, self.W2.T)*self.sigmoidPrime(self.z2)\n",
    "        #Add gradient of regularization term:\n",
    "        dJdW1 = np.dot(X.T, delta2)/X.shape[0] + self.Lambda*self.W1\n",
    "        \n",
    "        return dJdW1, dJdW2\n",
    "    \n",
    "    #Helper functions for interacting with other methods/classes\n",
    "    def getParams(self):\n",
    "        #Get W1 and W2 Rolled into vector:\n",
    "        params = np.concatenate((self.W1.ravel(), self.W2.ravel()))\n",
    "        return params\n",
    "    \n",
    "    def setParams(self, params):\n",
    "        #Set W1 and W2 using single parameter vector:\n",
    "        W1_start = 0\n",
    "        W1_end = self.hiddenLayerSize*self.inputLayerSize\n",
    "        self.W1 = np.reshape(params[W1_start:W1_end], (self.inputLayerSize, self.hiddenLayerSize))\n",
    "        W2_end = W1_end + self.hiddenLayerSize*self.outputLayerSize\n",
    "        self.W2 = np.reshape(params[W1_end:W2_end], (self.hiddenLayerSize, self.outputLayerSize))\n",
    "        \n",
    "    def computeGradients(self, X, y):\n",
    "        dJdW1, dJdW2 = self.costFunctionPrime(X, y)\n",
    "        return np.concatenate((dJdW1.ravel(), dJdW2.ravel()))"
   ]
  },
  {
   "cell_type": "code",
   "execution_count": 142,
   "metadata": {},
   "outputs": [],
   "source": [
    "class trainer(object):\n",
    "    def __init__(self, N):\n",
    "        #Make Local reference to network:\n",
    "        self.N = N\n",
    "        \n",
    "    def callbackF(self, params):\n",
    "        self.N.setParams(params)\n",
    "        self.J.append(self.N.costFunction(self.X, self.y))\n",
    "        self.testJ.append(self.N.costFunction(self.testX, self.testY))\n",
    "        \n",
    "    def costFunctionWrapper(self, params, X, y):\n",
    "        self.N.setParams(params)\n",
    "        cost = self.N.costFunction(X, y)\n",
    "        grad = self.N.computeGradients(X,y)\n",
    "        \n",
    "        return cost, grad\n",
    "        \n",
    "    def train(self, trainX, trainY, testX, testY):\n",
    "        #Make an internal variable for the callback function:\n",
    "        self.X = trainX\n",
    "        self.y = trainY\n",
    "        \n",
    "        self.testX = testX\n",
    "        self.testY = testY\n",
    "\n",
    "        #Make empty list to store training costs:\n",
    "        self.J = []\n",
    "        self.testJ = []\n",
    "        \n",
    "        params0 = self.N.getParams()\n",
    "\n",
    "        options = {'maxiter': 200, 'disp' : True}\n",
    "        _res = optimize.minimize(self.costFunctionWrapper, params0, jac=True, method='BFGS', \\\n",
    "                                 args=(trainX, trainY), options=options, callback=self.callbackF)\n",
    "\n",
    "        self.N.setParams(_res.x)\n",
    "        self.optimizationResults = _res"
   ]
  },
  {
   "cell_type": "code",
   "execution_count": 151,
   "metadata": {},
   "outputs": [],
   "source": [
    "class NeuralNetwork(object):\n",
    "    def __init__(self):        \n",
    "        '''\n",
    "        Neural Network Class, you may need to make some modifications here!\n",
    "        '''\n",
    "        self.inputLayerSize = 3840\n",
    "        self.outputLayerSize = 64\n",
    "        self.hiddenLayerSize = 30\n",
    "        \n",
    "        #Weights (parameters)\n",
    "        self.W1 = np.random.randn(self.inputLayerSize,self.hiddenLayerSize)\n",
    "        self.W2 = np.random.randn(self.hiddenLayerSize,self.outputLayerSize)\n",
    "    \n",
    "    def forward(self, X):\n",
    "        #Propogate inputs though network\n",
    "        self.z2 = np.dot(X, self.W1)\n",
    "        self.a2 = self.sigmoid(self.z2)\n",
    "        self.z3 = np.dot(self.a2, self.W2)\n",
    "        yHat = self.sigmoid(self.z3) \n",
    "        return yHat\n",
    "        \n",
    "    def sigmoid(self, z):\n",
    "        #Apply sigmoid activation function to scalar, vector, or matrix\n",
    "        return 1/(1+np.exp(-z))\n",
    "    \n",
    "    def sigmoidPrime(self,z):\n",
    "        #Gradient of sigmoid\n",
    "        return np.exp(-z)/((1+np.exp(-z))**2)\n",
    "    \n",
    "    def costFunction(self, X, y):\n",
    "        #Compute cost for given X,y, use weights already stored in class.\n",
    "        self.yHat = self.forward(X)\n",
    "        J = 0.5*sum((y-self.yHat)**2)\n",
    "        return J\n",
    "        \n",
    "    def costFunctionPrime(self, X, y):\n",
    "        #Compute derivative with respect to W and W2 for a given X and y:\n",
    "        self.yHat = self.forward(X)\n",
    "        \n",
    "        delta3 = np.multiply(-(y-self.yHat), self.sigmoidPrime(self.z3))\n",
    "        dJdW2 = np.dot(self.a2.T, delta3)\n",
    "        \n",
    "        delta2 = np.dot(delta3, self.W2.T)*self.sigmoidPrime(self.z2)\n",
    "        dJdW1 = np.dot(X.T, delta2)  \n",
    "        \n",
    "        return dJdW1, dJdW2\n",
    "    \n",
    "    #Helper Functions for interacting with other classes:\n",
    "    def getParams(self):\n",
    "        #Get W1 and W2 unrolled into vector:\n",
    "        params = np.concatenate((self.W1.ravel(), self.W2.ravel()))\n",
    "        return params\n",
    "    \n",
    "    def setParams(self, params):\n",
    "        #Set W1 and W2 using single paramater vector.\n",
    "        W1_start = 0\n",
    "        W1_end = self.hiddenLayerSize * self.inputLayerSize\n",
    "        self.W1 = np.reshape(params[W1_start:W1_end], (self.inputLayerSize , self.hiddenLayerSize))\n",
    "        W2_end = W1_end + self.hiddenLayerSize*self.outputLayerSize\n",
    "        self.W2 = np.reshape(params[W1_end:W2_end], (self.hiddenLayerSize, self.outputLayerSize))\n",
    "        \n",
    "    def computeGradients(self, X, y):\n",
    "        dJdW1, dJdW2 = self.costFunctionPrime(X, y)\n",
    "        return np.concatenate((dJdW1.ravel(), dJdW2.ravel()))"
   ]
  },
  {
   "cell_type": "code",
   "execution_count": null,
   "metadata": {},
   "outputs": [],
   "source": []
  }
 ],
 "metadata": {
  "kernelspec": {
   "display_name": "Python 3",
   "language": "python",
   "name": "python3"
  },
  "language_info": {
   "codemirror_mode": {
    "name": "ipython",
    "version": 3
   },
   "file_extension": ".py",
   "mimetype": "text/x-python",
   "name": "python",
   "nbconvert_exporter": "python",
   "pygments_lexer": "ipython3",
   "version": "3.5.2"
  }
 },
 "nbformat": 4,
 "nbformat_minor": 2
}
