{
 "cells": [
  {
   "cell_type": "code",
   "execution_count": null,
   "metadata": {},
   "outputs": [],
   "source": [
    "import numpy as np\n",
    "import cv2\n",
    "from tqdm import tqdm\n",
    "import time\n",
    "import signal\n",
    "from matplotlib import pyplot as plt"
   ]
  },
  {
   "cell_type": "code",
   "execution_count": null,
   "metadata": {},
   "outputs": [],
   "source": [
    "%pylab inline\n",
    "import pylab as pl\n",
    "from IPython import display"
   ]
  },
  {
   "cell_type": "code",
   "execution_count": null,
   "metadata": {},
   "outputs": [],
   "source": [
    "def preProcess_images(path,frame_nums):\n",
    "    X = []\n",
    "    for i in range(1500):\n",
    "        im_full = cv2.imread(path + '/' \n",
    "                        + str(int(frame_nums[i])).zfill(4) + '.jpg')\n",
    "        resized_image = cv2.resize(im_full, (64, 64))\n",
    "        grayscale_image = np.mean(resized_image, axis = 2)\n",
    "        normalized = grayscale_image/255\n",
    "        oneD_vec = np.ravel(normalized)\n",
    "        X.append(oneD_vec)\n",
    "    return np.asarray(X)\n",
    "\n",
    "def preProcess_angles(steering_angles):\n",
    "    maxAngle = steering_angles.max()\n",
    "    minAngle = steering_angles.min()\n",
    "    new_angle = []\n",
    "    for i in range(steering_angles.shape[0]):\n",
    "        new_angle.append(((steering_angles[i] - minAngle)) / (maxAngle - minAngle))\n",
    "    return np.asarray(new_angle)  "
   ]
  },
  {
   "cell_type": "code",
   "execution_count": null,
   "metadata": {},
   "outputs": [],
   "source": [
    "student_file = 'sample_student'\n",
    "path_to_training_images = 'data/training/images'\n",
    "training_csv_file = 'data/training/steering_angles.csv'\n",
    "path_to_testing_images = 'data/training/images'\n",
    "testing_csv_file = 'data/training/steering_angles.csv'\n",
    "time_limit = 600"
   ]
  },
  {
   "cell_type": "code",
   "execution_count": null,
   "metadata": {},
   "outputs": [],
   "source": []
  },
  {
   "cell_type": "code",
   "execution_count": null,
   "metadata": {},
   "outputs": [],
   "source": [
    "data = np.genfromtxt(training_csv_file, delimiter = ',')\n",
    "frame_nums = data[:,0]\n",
    "steering_angles = data[:,1]\n",
    "print(steering_angles.shape)"
   ]
  },
  {
   "cell_type": "code",
   "execution_count": null,
   "metadata": {},
   "outputs": [],
   "source": [
    "X = preProcess_images(path_to_training_images, frame_nums)\n",
    "y = preProcess_angles(steering_angles)"
   ]
  },
  {
   "cell_type": "code",
   "execution_count": null,
   "metadata": {},
   "outputs": [],
   "source": [
    "y = y.reshape((1500,1))"
   ]
  },
  {
   "cell_type": "code",
   "execution_count": null,
   "metadata": {},
   "outputs": [],
   "source": [
    "X.shape,y.shape"
   ]
  },
  {
   "cell_type": "code",
   "execution_count": null,
   "metadata": {},
   "outputs": [],
   "source": [
    "class Neural_Network(object):\n",
    "    def __init__(self, Lambda=0):        \n",
    "        #Define Hyperparameters\n",
    "        self.inputLayerSize = 64*64\n",
    "        self.outputLayerSize = 1\n",
    "        self.hiddenLayerSize = 30\n",
    "        \n",
    "        #Weights (parameters)\n",
    "        self.W1 = np.random.randn(self.inputLayerSize,self.hiddenLayerSize)\n",
    "        self.W2 = np.random.randn(self.hiddenLayerSize,self.outputLayerSize)\n",
    "        \n",
    "        #Regularization Parameter:\n",
    "        self.Lambda = Lambda\n",
    "        \n",
    "    def forward(self, X):\n",
    "        #Propogate inputs though network\n",
    "        self.z2 = np.dot(X, self.W1)\n",
    "        self.a2 = self.sigmoid(self.z2)\n",
    "        self.z3 = np.dot(self.a2, self.W2)\n",
    "        yHat = self.sigmoid(self.z3) \n",
    "        return yHat\n",
    "        \n",
    "    def sigmoid(self, z):\n",
    "        #Apply sigmoid activation function to scalar, vector, or matrix\n",
    "        return 1/(1+np.exp(-z))\n",
    "    \n",
    "    def sigmoidPrime(self,z):\n",
    "        #Gradient of sigmoid\n",
    "        return np.exp(-z)/((1+np.exp(-z))**2)\n",
    "    \n",
    "    def costFunction(self, X, y):\n",
    "        #Compute cost for given X,y, use weights already stored in class.\n",
    "        self.yHat = self.forward(X)\n",
    "        J = 0.5*sum((y-self.yHat)**2)/X.shape[0] + (self.Lambda/2)*(np.sum(self.W1**2)+np.sum(self.W2**2))\n",
    "        return J\n",
    "        \n",
    "    def costFunctionPrime(self, X, y):\n",
    "        #Compute derivative with respect to W and W2 for a given X and y:\n",
    "        self.yHat = self.forward(X)\n",
    "        \n",
    "        delta3 = np.multiply(-(y-self.yHat), self.sigmoidPrime(self.z3))\n",
    "        #Add gradient of regularization term:\n",
    "        dJdW2 = np.dot(self.a2.T, delta3)/X.shape[0] + self.Lambda*self.W2\n",
    "        \n",
    "        delta2 = np.dot(delta3, self.W2.T)*self.sigmoidPrime(self.z2)\n",
    "        #Add gradient of regularization term:\n",
    "        dJdW1 = np.dot(X.T, delta2)/X.shape[0] + self.Lambda*self.W1\n",
    "        \n",
    "        return dJdW1, dJdW2\n",
    "    \n",
    "    #Helper functions for interacting with other methods/classes\n",
    "    def getParams(self):\n",
    "        #Get W1 and W2 Rolled into vector:\n",
    "        params = np.concatenate((self.W1.ravel(), self.W2.ravel()))\n",
    "        return params\n",
    "    \n",
    "    def setParams(self, params):\n",
    "        #Set W1 and W2 using single parameter vector:\n",
    "        W1_start = 0\n",
    "        W1_end = self.hiddenLayerSize*self.inputLayerSize\n",
    "        self.W1 = np.reshape(params[W1_start:W1_end], \\\n",
    "                             (self.inputLayerSize, self.hiddenLayerSize))\n",
    "        W2_end = W1_end + self.hiddenLayerSize*self.outputLayerSize\n",
    "        self.W2 = np.reshape(params[W1_end:W2_end], \\\n",
    "                             (self.hiddenLayerSize, self.outputLayerSize))\n",
    "        \n",
    "    def computeGradients(self, X, y):\n",
    "        dJdW1, dJdW2 = self.costFunctionPrime(X, y)\n",
    "        return np.concatenate((dJdW1.ravel(), dJdW2.ravel()))"
   ]
  },
  {
   "cell_type": "code",
   "execution_count": null,
   "metadata": {},
   "outputs": [],
   "source": [
    "NN = Neural_Network(Lambda=0.0001)\n",
    "grads = NN.computeGradients(X, y)\n",
    "num_iterations = 5000\n",
    "alpha = 1e-2\n",
    "beta1= 0.5\n",
    "beta2= 0.999\n",
    "epsilon= 1e-05\n",
    "\n",
    "m0 = np.zeros(len(grads)) #Initialize first moment vector\n",
    "v0 = np.zeros(len(grads)) #Initialize second moment vector\n",
    "t = 0.0\n",
    "\n",
    "losses = [] #For visualization\n",
    "RMSE_vec = []\n",
    "mt = m0\n",
    "vt = v0\n",
    "fig1 = figure()\n",
    "for i in range(num_iterations):\n",
    "    if i%50==0:\n",
    "        alpha = alpha * 0.1\n",
    "    t += 1\n",
    "    grads = NN.computeGradients(X = X, y = y)\n",
    "    mt = beta1*mt + (1-beta1)*grads\n",
    "    vt = beta2*vt + (1-beta2)*grads**2\n",
    "    mt_hat = mt/(1-beta1**t)\n",
    "    vt_hat = vt/(1-beta2**t)\n",
    "\n",
    "    params = NN.getParams()\n",
    "    new_params = params - alpha*mt_hat/(np.sqrt(vt_hat)+epsilon)\n",
    "    NN.setParams(new_params)\n",
    "\n",
    "    losses.append(NN.costFunction(X = X, y = y))   \n",
    "    \n",
    "    angles = NN.forward(X)\n",
    "    new_a = []\n",
    "    for a in range(1500):\n",
    "        new_a.append((angles[a]) * (steering_angles.max() - steering_angles.min()) + steering_angles.min())\n",
    "    \n",
    "    RMSE = np.sqrt(np.mean((np.array(new_a) - steering_angles)**2))\n",
    "    print(\"Epoch: {} -> Loss: {}\".format(i, RMSE))\n",
    "#     RMSE_vec.append(RMSE)\n",
    "#     ## Clear the figure\n",
    "#     if i%10==0:\n",
    "#         pl.plot(RMSE_vec)\n",
    "#         display.clear_output(wait=True)\n",
    "#         display.display(pl.gcf())"
   ]
  },
  {
   "cell_type": "code",
   "execution_count": null,
   "metadata": {},
   "outputs": [],
   "source": [
    "angles.shape"
   ]
  },
  {
   "cell_type": "code",
   "execution_count": null,
   "metadata": {},
   "outputs": [],
   "source": [
    "T= NN.forward(im_full)\n",
    "T"
   ]
  },
  {
   "cell_type": "code",
   "execution_count": null,
   "metadata": {},
   "outputs": [],
   "source": [
    "nn,loss = trainFunc(train_im,train_an)"
   ]
  },
  {
   "cell_type": "code",
   "execution_count": null,
   "metadata": {},
   "outputs": [],
   "source": [
    "nn.forward(im_full)"
   ]
  },
  {
   "cell_type": "code",
   "execution_count": null,
   "metadata": {},
   "outputs": [],
   "source": [
    "figure(0,(20,20))\n",
    "plot(loss)"
   ]
  },
  {
   "cell_type": "code",
   "execution_count": null,
   "metadata": {},
   "outputs": [],
   "source": []
  }
 ],
 "metadata": {
  "kernelspec": {
   "display_name": "Python 3",
   "language": "python",
   "name": "python3"
  },
  "language_info": {
   "codemirror_mode": {
    "name": "ipython",
    "version": 3
   },
   "file_extension": ".py",
   "mimetype": "text/x-python",
   "name": "python",
   "nbconvert_exporter": "python",
   "pygments_lexer": "ipython3",
   "version": "3.5.2"
  }
 },
 "nbformat": 4,
 "nbformat_minor": 2
}
