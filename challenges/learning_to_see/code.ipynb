{
 "cells": [
  {
   "cell_type": "code",
   "execution_count": 1,
   "metadata": {},
   "outputs": [],
   "source": [
    "import numpy as np\n",
    "import pickle\n",
    "import time\n",
    "import sys\n"
   ]
  },
  {
   "cell_type": "code",
   "execution_count": null,
   "metadata": {},
   "outputs": [],
   "source": []
  },
  {
   "cell_type": "code",
   "execution_count": 2,
   "metadata": {},
   "outputs": [],
   "source": [
    "import numpy as np\n",
    "\n",
    "#It's kk to import whatever you want from the local util module if you would like:\n",
    "#from util.X import ... \n",
    "\n",
    "def count_fingers_deep(im):\n",
    "    '''\n",
    "    Example submission for coding challenge. \n",
    "    \n",
    "    Args: im (nxm) unsigned 8-bit grayscale image \n",
    "    Returns: One of three integers: 1, 2, 3\n",
    "    \n",
    "    '''    \n",
    "    im = im>50\n",
    "    T = np.zeros_like(im)\n",
    "#     for col in range(0,im.shape[1],1):\n",
    "#         for row in range(0,im.shape[0],1):\n",
    "#             if (row+9>=im.shape[0] or col+9>=im.shape[1]):\n",
    "#                 continue\n",
    "#             cut = im[row:row+9,col:col+9]\n",
    "#             if (cut[4,4] and not cut[0,0] and cut[5,8]):\n",
    "#                 T[row+4,col+4]=1    \n",
    "#     top_half = T[:20,:]\n",
    "    a = im.sum(axis=0)\n",
    "    a = np.diff(a)\n",
    "    peaks = np.where((a[1:-1] > a[0:-2]) * (a[1:-1] > a[2:]))[0] + 1\n",
    "    if peaks.shape[0] < 1:\n",
    "        return 1\n",
    "    elif peaks.shape[0]>3:\n",
    "        return 3\n",
    "    else:\n",
    "        return peaks.shape[0]"
   ]
  },
  {
   "cell_type": "code",
   "execution_count": 3,
   "metadata": {},
   "outputs": [],
   "source": [
    "def evaluate(student_file = 'deep_ghaghara', data_file = '../../learning_to_see/data/training_data.p'):\n",
    "    '''\n",
    "    Evaluate performance on finger-counting challenge.\n",
    "    '''\n",
    "\n",
    "    #import student method:\n",
    "    # from sample_student import count_fingers\n",
    "    #count_fingers = getattr(__import__(student_file, 'count_fingers'), 'count_fingers')\n",
    "\n",
    "\n",
    "    with open(data_file, 'rb') as f:\n",
    "        d = pickle.load(f)\n",
    "\n",
    "    confusion_matrix = np.zeros((3,3), dtype = 'int')\n",
    "\n",
    "    for i in range(len(d)):\n",
    "        cropped_image = d[i]['image'][d[i]['boxEdges'][2]:d[i]['boxEdges'][3], \\\n",
    "                                     d[i]['boxEdges'][0]:d[i]['boxEdges'][1]] \n",
    "        label = count_fingers_deep(cropped_image)\n",
    "\n",
    "        confusion_matrix[d[i]['numFingers']-1, label-1] += 1\n",
    "\n",
    "    accuracy = np.sum(np.diag(confusion_matrix))/np.sum(confusion_matrix)\n",
    "\n",
    "\n",
    "    #print out performance numbers:\n",
    "\n",
    "    print('                  Correct Labels  ')\n",
    "    print('                  1      2      3')\n",
    "    print('                 -----------------')\n",
    "    print('Predicted     1 | ' + str(confusion_matrix[0, 0]) + '      ' + \n",
    "                         str(confusion_matrix[0, 1]) + '      ' + \n",
    "                         str(confusion_matrix[0, 2]) + '      ')\n",
    "\n",
    "    print('Labels        2 | ' + str(confusion_matrix[1, 0]) + '      ' + \n",
    "                         str(confusion_matrix[1, 1]) + '      ' + \n",
    "                         str(confusion_matrix[1, 2]) + '      ')\n",
    "\n",
    "    print('              3 | ' + str(confusion_matrix[2, 0]) + '      ' + \n",
    "                         str(confusion_matrix[2, 1]) + '      ' + \n",
    "                         str(confusion_matrix[2, 2]) + '      ')\n",
    "\n",
    "    print('\\n')\n",
    "    print('Accuracy = ' + str(round(accuracy, 3)))\n",
    "\n",
    "    return accuracy, confusion_matrix\n",
    "\n",
    "\n",
    "def calculate_score(accuracy):\n",
    "    score = 0\n",
    "    if accuracy >= 0.8:\n",
    "        score = 10\n",
    "    elif accuracy >= 0.7:\n",
    "        score = 9\n",
    "    elif accuracy >= 0.6:\n",
    "        score = 8\n",
    "    elif accuracy >= 0.5:\n",
    "        score = 7\n",
    "    elif accuracy >= 0.4:\n",
    "        score = 6\n",
    "    elif accuracy >= 0.35:\n",
    "        score = 5\n",
    "    elif accuracy >= 0:\n",
    "        score = 4\n",
    "    return score"
   ]
  },
  {
   "cell_type": "code",
   "execution_count": 4,
   "metadata": {},
   "outputs": [
    {
     "name": "stdout",
     "output_type": "stream",
     "text": [
      "                  Correct Labels  \n",
      "                  1      2      3\n",
      "                 -----------------\n",
      "Predicted     1 | 0      0      16      \n",
      "Labels        2 | 0      0      18      \n",
      "              3 | 0      0      8      \n",
      "\n",
      "\n",
      "Accuracy = 0.19\n",
      "0.19047619047619047\n",
      "Execution time (seconds) =  0.01\n",
      "Score =  4\n",
      "\n"
     ]
    }
   ],
   "source": [
    "###MAIN FILE TO TEST\n",
    "program_start = time.time()\n",
    "accuracy, _ = evaluate()\n",
    "print(accuracy)\n",
    "score = calculate_score(accuracy)\n",
    "program_end = time.time()\n",
    "total_time = round(program_end - program_start,2)\n",
    "\n",
    "print(\"Execution time (seconds) = \", total_time)\n",
    "print(\"Score = \", score)\n",
    "print()"
   ]
  },
  {
   "cell_type": "code",
   "execution_count": null,
   "metadata": {},
   "outputs": [],
   "source": []
  },
  {
   "cell_type": "code",
   "execution_count": 5,
   "metadata": {},
   "outputs": [],
   "source": [
    "data_file = '../../learning_to_see/data/training_data.p'\n",
    "with open(data_file, 'rb') as f:\n",
    "    d = pickle.load(f)\n",
    "confusion_matrix = np.zeros((3,3), dtype = 'int')"
   ]
  },
  {
   "cell_type": "code",
   "execution_count": 6,
   "metadata": {},
   "outputs": [
    {
     "name": "stdout",
     "output_type": "stream",
     "text": [
      "(57, 37)\n"
     ]
    },
    {
     "data": {
      "text/plain": [
       "[<matplotlib.lines.Line2D at 0x2928732f080>]"
      ]
     },
     "execution_count": 6,
     "metadata": {},
     "output_type": "execute_result"
    }
   ],
   "source": [
    "i = 20\n",
    "cropped_image = d[i]['image'][d[i]['boxEdges'][2]:d[i]['boxEdges'][3], \\\n",
    "                                 d[i]['boxEdges'][0]:d[i]['boxEdges'][1]] \n",
    "#label = count_fingers_deep(cropped_image)\n",
    "import matplotlib.pyplot as plt\n",
    "print(cropped_image.shape)\n",
    "cropped_image = cropped_image>92\n",
    "a = cropped_image.sum(axis=0)\n",
    "a = a/a.sum()\n",
    "# w=eval('numpy.hanning(11)')\n",
    "# s=numpy.r_[a[11-1:0:-1],a,a[-2:-11-1:-1]]\n",
    "# a=numpy.convolve(w/w.sum(),s,mode='valid')\n",
    "plt.plot(a)\n",
    "# plt.hist(cropped_image>, bins=20)\n",
    "# plt.ylabel('No of times')\n",
    "# plt.show()\n",
    "############"
   ]
  },
  {
   "cell_type": "code",
   "execution_count": 7,
   "metadata": {},
   "outputs": [
    {
     "data": {
      "text/plain": [
       "[<matplotlib.lines.Line2D at 0x29287530eb8>]"
      ]
     },
     "execution_count": 7,
     "metadata": {},
     "output_type": "execute_result"
    },
    {
     "data": {
      "image/png": "[encoded data removed]",
      "text/plain": [
       "<Figure size 432x288 with 1 Axes>"
      ]
     },
     "metadata": {
      "needs_background": "light"
     },
     "output_type": "display_data"
    }
   ],
   "source": [
    "##Test diff\n",
    "dx = 1\n",
    "dy = np.diff(a)/dx\n",
    "plt.plot(dy)"
   ]
  },
  {
   "cell_type": "code",
   "execution_count": 8,
   "metadata": {},
   "outputs": [
    {
     "name": "stdout",
     "output_type": "stream",
     "text": [
      "Populating the interactive namespace from numpy and matplotlib\n"
     ]
    },
    {
     "name": "stderr",
     "output_type": "stream",
     "text": [
      "c:\\users\\dghag\\anaconda3\\envs\\unccv\\lib\\site-packages\\IPython\\core\\magics\\pylab.py:160: UserWarning: pylab import has clobbered these variables: ['f']\n",
      "`%matplotlib` prevents importing * from pylab and numpy\n",
      "  \"\\n`%matplotlib` prevents importing * from pylab and numpy\"\n"
     ]
    }
   ],
   "source": [
    "%pylab inline \n",
    "from ipywidgets import interact"
   ]
  },
  {
   "cell_type": "code",
   "execution_count": 9,
   "metadata": {},
   "outputs": [
    {
     "data": {
      "text/plain": [
       "<matplotlib.image.AxesImage at 0x292875c0400>"
      ]
     },
     "execution_count": 9,
     "metadata": {},
     "output_type": "execute_result"
    },
    {
     "data": {
      "image/png": "[encoded data removed]",
      "text/plain": [
       "<Figure size 864x864 with 1 Axes>"
      ]
     },
     "metadata": {
      "needs_background": "light"
     },
     "output_type": "display_data"
    }
   ],
   "source": [
    "fig = figure(0, (12,12))\n",
    "imshow(cropped_image)"
   ]
  },
  {
   "cell_type": "code",
   "execution_count": 111,
   "metadata": {},
   "outputs": [
    {
     "name": "stdout",
     "output_type": "stream",
     "text": [
      "(64, 38)\n"
     ]
    },
    {
     "data": {
      "text/plain": [
       "<matplotlib.image.AxesImage at 0x2928c5e3320>"
      ]
     },
     "execution_count": 111,
     "metadata": {},
     "output_type": "execute_result"
    },
    {
     "data": {
      "image/png": "[encoded data removed]",
      "text/plain": [
       "<Figure size 864x864 with 1 Axes>"
      ]
     },
     "metadata": {
      "needs_background": "light"
     },
     "output_type": "display_data"
    }
   ],
   "source": [
    "i =1\n",
    "cropped_image = d[i]['image'][d[i]['boxEdges'][2]:d[i]['boxEdges'][3], \\\n",
    "                                 d[i]['boxEdges'][0]:d[i]['boxEdges'][1]] \n",
    "#label = count_fingers_deep(cropped_image)\n",
    "import matplotlib.pyplot as plt\n",
    "print(cropped_image.shape)\n",
    "cropped_image = cropped_image>125\n",
    "# T = np.zeros_like(cropped_image)\n",
    "# for col in range(0,cropped_image.shape[1],1):\n",
    "#     for row in range(0,cropped_image.shape[0],1):\n",
    "#         if (row+9>=cropped_image.shape[0] or col+9>=cropped_image.shape[1]):\n",
    "#             continue\n",
    "#         cut = cropped_image[row:row+9,col:col+9]\n",
    "#         if (cut[4,4] and not cut[0,0] and cut[5,8]):\n",
    "#             T[row+4,col+4]=1\n",
    "        #print(row,col,cut.shape)\n",
    "\n",
    "fig = figure(0, (12,12))\n",
    "imshow(cropped_image)       \n"
   ]
  },
  {
   "cell_type": "code",
   "execution_count": 112,
   "metadata": {
    "scrolled": true
   },
   "outputs": [
    {
     "data": {
      "text/plain": [
       "<matplotlib.image.AxesImage at 0x2928c63f320>"
      ]
     },
     "execution_count": 112,
     "metadata": {},
     "output_type": "execute_result"
    },
    {
     "data": {
      "image/png": "[encoded data removed]",
      "text/plain": [
       "<Figure size 864x864 with 1 Axes>"
      ]
     },
     "metadata": {
      "needs_background": "light"
     },
     "output_type": "display_data"
    }
   ],
   "source": [
    "top_half = cropped_image[:20,:]\n",
    "fig = figure(0, (12,12))\n",
    "imshow(top_half) "
   ]
  },
  {
   "cell_type": "code",
   "execution_count": 113,
   "metadata": {},
   "outputs": [
    {
     "name": "stdout",
     "output_type": "stream",
     "text": [
      "[ 0  0  0  0  0  0  0  0  8 10 11 10  5  0  0  0  0  0  2  4  6  9 11 10\n",
      "  7  4  0  0  0  0  0  0  0  0  0  0  0  0]\n",
      "[0 0 0 0 0 0 0 1 1 1 1 1 1 1 0 0 0 1 1 1 1 1 1 1 1 1 1 0 0 0 0 0 0 0 0 0 0\n",
      " 0]\n",
      "2\n"
     ]
    },
    {
     "data": {
      "image/png": "[encoded data removed]",
      "text/plain": [
       "<Figure size 432x288 with 1 Axes>"
      ]
     },
     "metadata": {
      "needs_background": "light"
     },
     "output_type": "display_data"
    }
   ],
   "source": [
    "top_half = cropped_image[:20,:]\n",
    "a = top_half.sum(axis=0)\n",
    "plt.plot(a)\n",
    "# \n",
    "b = np.zeros_like(a)\n",
    "print(a)\n",
    "for i in range(0,a.shape[0]-2):\n",
    "    if i>0 and i<a.shape[0]-2:\n",
    "        if (a[i-1] or a[i+1]) != 0:\n",
    "            b[i]=1\n",
    "print(b)\n",
    "ctr = 0\n",
    "for i in range(0,b.shape[0]-1):\n",
    "    if b[i]==1 and b[i+1]!=1:\n",
    "        ctr+=1\n",
    "print(ctr)\n",
    "        "
   ]
  }
 ],
 "metadata": {
  "kernelspec": {
   "display_name": "Python 3",
   "language": "python",
   "name": "python3"
  },
  "language_info": {
   "codemirror_mode": {
    "name": "ipython",
    "version": 3
   },
   "file_extension": ".py",
   "mimetype": "text/x-python",
   "name": "python",
   "nbconvert_exporter": "python",
   "pygments_lexer": "ipython3",
   "version": "3.7.0"
  }
 },
 "nbformat": 4,
 "nbformat_minor": 2
}
