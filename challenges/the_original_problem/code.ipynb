{
 "cells": [
  {
   "cell_type": "code",
   "execution_count": 13,
   "metadata": {},
   "outputs": [],
   "source": [
    "# add utils\n",
    "import sys\n",
    "sys.path.append('../../the_original_problem/')\n",
    "from util.filters import filter_2d\n",
    "\n",
    "# sample script imports\n",
    "import numpy as np\n",
    "import glob\n",
    "from easydict import EasyDict\n",
    "from matplotlib.pyplot import imread"
   ]
  },
  {
   "cell_type": "code",
   "execution_count": 15,
   "metadata": {},
   "outputs": [],
   "source": [
    "def classify(im):\n",
    "    '''\n",
    "    Example submission for coding challenge. \n",
    "    \n",
    "    Args: im (nxmx3) unsigned 8-bit color image \n",
    "    Returns: One of three strings: 'brick', 'ball', or 'cylinder'\n",
    "    \n",
    "    '''\n",
    "\n",
    "\n",
    "\n",
    "\n",
    "    #Let's guess randomly! Maybe we'll get lucky.\n",
    "    labels = ['brick', 'ball', 'cylinder']\n",
    "    random_integer = np.random.randint(low = 0, high = 3)\n",
    "    \n",
    "    return labels[random_integer]"
   ]
  },
  {
   "cell_type": "code",
   "execution_count": 3,
   "metadata": {},
   "outputs": [
    {
     "name": "stdout",
     "output_type": "stream",
     "text": [
      "Populating the interactive namespace from numpy and matplotlib\n"
     ]
    }
   ],
   "source": [
    "%pylab inline "
   ]
  },
  {
   "cell_type": "code",
   "execution_count": 4,
   "metadata": {},
   "outputs": [
    {
     "ename": "IndexError",
     "evalue": "list index out of range",
     "output_type": "error",
     "traceback": [
      "\u001b[1;31m---------------------------------------------------------------------------\u001b[0m",
      "\u001b[1;31mIndexError\u001b[0m                                Traceback (most recent call last)",
      "\u001b[1;32m<ipython-input-4-c0cabc48cc44>\u001b[0m in \u001b[0;36m<module>\u001b[1;34m()\u001b[0m\n\u001b[0;32m      5\u001b[0m \u001b[0mimage_class\u001b[0m \u001b[1;33m=\u001b[0m \u001b[0mclasses\u001b[0m\u001b[1;33m[\u001b[0m\u001b[1;36m2\u001b[0m\u001b[1;33m]\u001b[0m\u001b[1;33m\u001b[0m\u001b[0m\n\u001b[0;32m      6\u001b[0m \u001b[0mimage_paths\u001b[0m \u001b[1;33m=\u001b[0m \u001b[0mglob\u001b[0m\u001b[1;33m.\u001b[0m\u001b[0mglob\u001b[0m\u001b[1;33m(\u001b[0m\u001b[0mdata_path\u001b[0m \u001b[1;33m+\u001b[0m \u001b[1;34m'/'\u001b[0m \u001b[1;33m+\u001b[0m \u001b[0mdataset_name\u001b[0m \u001b[1;33m+\u001b[0m \u001b[1;34m'/'\u001b[0m \u001b[1;33m+\u001b[0m \u001b[0mimage_class\u001b[0m \u001b[1;33m+\u001b[0m \u001b[1;34m'/*.jpg'\u001b[0m\u001b[1;33m)\u001b[0m\u001b[1;33m\u001b[0m\u001b[0m\n\u001b[1;32m----> 7\u001b[1;33m \u001b[0mimage_path\u001b[0m \u001b[1;33m=\u001b[0m  \u001b[0mimage_paths\u001b[0m\u001b[1;33m[\u001b[0m\u001b[1;36m4\u001b[0m\u001b[1;33m]\u001b[0m\u001b[1;33m\u001b[0m\u001b[0m\n\u001b[0m\u001b[0;32m      8\u001b[0m \u001b[0mprint\u001b[0m\u001b[1;33m(\u001b[0m\u001b[0mimage_path\u001b[0m\u001b[1;33m)\u001b[0m\u001b[1;33m\u001b[0m\u001b[0m\n\u001b[0;32m      9\u001b[0m \u001b[0mim\u001b[0m \u001b[1;33m=\u001b[0m \u001b[0mimread\u001b[0m\u001b[1;33m(\u001b[0m\u001b[0mimage_path\u001b[0m\u001b[1;33m)\u001b[0m\u001b[1;33m\u001b[0m\u001b[0m\n",
      "\u001b[1;31mIndexError\u001b[0m: list index out of range"
     ]
    }
   ],
   "source": [
    "dataset_names = ['easy', 'medium_1', 'medium_2', 'hard']\n",
    "classes = ['ball', 'brick', 'cylinder']\n",
    "data_path = '../data' #Assuming data is stored in current directory. \n",
    "dataset_name = dataset_names[3]\n",
    "image_class = classes[2]\n",
    "image_paths = glob.glob(data_path + '/' + dataset_name + '/' + image_class + '/*.jpg')\n",
    "image_path =  image_paths[4]\n",
    "print(image_path)\n",
    "im = imread(image_path)\n",
    "prediction = classify(im)\n",
    "if image_class == prediction:\n",
    "    print('match')\n",
    "    fig = figure(0, (12,12))\n",
    "    imshow(im)\n",
    "else:\n",
    "    print('not match')"
   ]
  },
  {
   "cell_type": "code",
   "execution_count": 5,
   "metadata": {},
   "outputs": [
    {
     "ename": "ModuleNotFoundError",
     "evalue": "No module named 'filters'",
     "output_type": "error",
     "traceback": [
      "\u001b[1;31m---------------------------------------------------------------------------\u001b[0m",
      "\u001b[1;31mModuleNotFoundError\u001b[0m                       Traceback (most recent call last)",
      "\u001b[1;32m<ipython-input-5-dff15fcd28c6>\u001b[0m in \u001b[0;36m<module>\u001b[1;34m()\u001b[0m\n\u001b[0;32m      1\u001b[0m \u001b[1;32mimport\u001b[0m \u001b[0msys\u001b[0m\u001b[1;33m\u001b[0m\u001b[0m\n\u001b[0;32m      2\u001b[0m \u001b[0msys\u001b[0m\u001b[1;33m.\u001b[0m\u001b[0mpath\u001b[0m\u001b[1;33m.\u001b[0m\u001b[0minsert\u001b[0m\u001b[1;33m(\u001b[0m\u001b[1;36m0\u001b[0m\u001b[1;33m,\u001b[0m \u001b[1;34m'..\\\\util'\u001b[0m\u001b[1;33m)\u001b[0m\u001b[1;33m\u001b[0m\u001b[0m\n\u001b[1;32m----> 3\u001b[1;33m \u001b[1;32mfrom\u001b[0m \u001b[0mfilters\u001b[0m \u001b[1;32mimport\u001b[0m \u001b[0mfilter_2d\u001b[0m\u001b[1;33m\u001b[0m\u001b[0m\n\u001b[0m",
      "\u001b[1;31mModuleNotFoundError\u001b[0m: No module named 'filters'"
     ]
    }
   ],
   "source": []
  },
  {
   "cell_type": "code",
   "execution_count": null,
   "metadata": {},
   "outputs": [],
   "source": [
    "def canny_edge(im):\n",
    "    #grayscale\n",
    "    im = np.mean(im, axis = 2)\n",
    "    \n",
    "    #Implement Sobel kernels as numpy arrays\n",
    "    Kx = np.array([[1, 0, -1],\n",
    "                   [2, 0, -2],\n",
    "                   [1, 0, -1]])\n",
    "\n",
    "    Ky = np.array([[1, 2, 1],\n",
    "                   [0, 0, 0],\n",
    "                   [-1, -2, -1]])\n",
    "    \n",
    "    Gx = filter_2d(im,Kx)\n",
    "    Gy = filter_2d(im,Ky)\n",
    "    #Compute Gradient Magnitude:\n",
    "    gm = np.sqrt(Gx**2+Gy**2)\n",
    "    \n",
    "    #Arctan2 works a little better here, allowing us to avoid dividing by zero:\n",
    "    gd = np.arctan2(Gy, Gx)\n",
    "    \n",
    "    gLocalMax = np.zeros((im.shape[0],im.shape[1]))\n",
    "    gLocalMax[1:im.shape[0]-1,1:im.shape[1]-1]=gm\n",
    "    \n",
    "    for row in range(1,im.shape[0]-3):\n",
    "        for col in range(1,im.shape[1]-3):\n",
    "            v= gm[row][col]\n",
    "            theta = gd[row][col]\n",
    "            if (theta>=(-pi/8.0) and theta<(pi/8.0)) and (v<gm[row][col-1] or v<gm[row][col+1]):\n",
    "                gLocalMax[row][col]=0\n",
    "            elif (theta>=(pi/8.0) and theta<((3*pi)/8.0)) and ((v<gm[row-1][col-1] or v<gm[row+1][col+1])):\n",
    "                gLocalMax[row][col]=0\n",
    "            elif (theta>=((3*pi)/8.0) and theta<((5*pi)/8.0)) and (v<gm[row-1][col] or v<gm[row+1][col]):\n",
    "                gLocalMax[row][col]=0\n",
    "            elif (theta>=((5*pi)/8.0) and theta<((7*pi)/8.0)) and (v<gm[row+1][col-1] or v<gm[row-1][col+1]):\n",
    "                gLocalMax[row][col]=0\n",
    "            elif ((theta>=((7*pi)/8.0) or theta<((-7*pi)/8.0)) and ((v<gm[row][col-1] or v<gm[row][col+1]))):\n",
    "                gLocalMax[row][col]=0 \n",
    "            elif (theta>=((-7*pi)/8.0) and theta<((-5*pi)/8.0)) and ((v<gm[row-1][col-1] or v<gm[row+1][col+1])):\n",
    "                gLocalMax[row][col]=0\n",
    "            elif (theta>=((-5*pi)/8.0) and theta<((-3*pi)/8.0)) and ((v<gm[row-1][col] or v<gm[row+1][col])):\n",
    "                gLocalMax[row][col]=0\n",
    "            elif (theta>=((-3*pi)/8.0) and theta<((-pi)/8.0)) and ((v<gm[row+1][col-1] or v<gm[row-1][col+1])):\n",
    "                gLocalMax[row][col]=0\n",
    "    \n",
    "    #Double threshold\n",
    "    strongEdges = (gLocalMax > 30)\n",
    "\n",
    "    #Strong has value 2, weak has value 1\n",
    "    thresholdedEdges = np.array(strongEdges, dtype=np.uint8) + (gLocalMax > 20)\n",
    "\n",
    "    #Tracing edges with hysteresis\t\n",
    "    #Find weak edge pixels near strong edge pixels\n",
    "    finalEdges = strongEdges.copy()\n",
    "    currentPixels = []\n",
    "    for r in range(1, im.shape[0]-1):\n",
    "        for c in range(1, im.shape[1]-1):\n",
    "            if thresholdedEdges[r, c] != 1:\n",
    "                continue #Not a weak pixel\n",
    "\n",
    "            #Get 3x3 patch\t\n",
    "            localPatch = thresholdedEdges[r-1:r+2,c-1:c+2]\n",
    "            patchMax = localPatch.max()\n",
    "            if patchMax == 2:\n",
    "                currentPixels.append((r, c))\n",
    "                finalEdges[r, c] = 1\n",
    "\n",
    "    #Extend strong edges based on current pixels\n",
    "    while len(currentPixels) > 0:\n",
    "        newPix = []\n",
    "        for r, c in currentPixels:\n",
    "            for dr in range(-1, 2):\n",
    "                for dc in range(-1, 2):\n",
    "                    if dr == 0 and dc == 0: continue\n",
    "                    r2 = r+dr\n",
    "                    c2 = c+dc\n",
    "                    if thresholdedEdges[r2, c2] == 1 and finalEdges[r2, c2] == 0:\n",
    "                        #Copy this weak pixel to final result\n",
    "                        newPix.append((r2, c2))\n",
    "                        finalEdges[r2, c2] = 1\n",
    "        currentPixels = newPix\n",
    " \n",
    "    return finalEdges"
   ]
  },
  {
   "cell_type": "code",
   "execution_count": null,
   "metadata": {},
   "outputs": [],
   "source": [
    "G = canny_edge(im)\n",
    "print(G.shape)\n",
    "fig = figure(0, (12,12))\n",
    "imshow(G*255)\n",
    "colorbar()"
   ]
  },
  {
   "cell_type": "code",
   "execution_count": null,
   "metadata": {},
   "outputs": [],
   "source": [
    "for row in range(G.shape[0]):\n",
    "    for col in range(G.shape[1]):\n",
    "        if G[row][col]>0:\n",
    "            print(G[row][col])"
   ]
  },
  {
   "cell_type": "code",
   "execution_count": null,
   "metadata": {},
   "outputs": [],
   "source": [
    "G[254][254]"
   ]
  },
  {
   "cell_type": "code",
   "execution_count": null,
   "metadata": {},
   "outputs": [],
   "source": [
    "G = canny_edge(im)\n",
    "print(G.shape)\n",
    "fig = figure(0, (12,12))\n",
    "imshow(G)"
   ]
  },
  {
   "cell_type": "code",
   "execution_count": null,
   "metadata": {},
   "outputs": [],
   "source": [
    "for i in range(1,im.shape[1]-2):\n",
    "    print(i)"
   ]
  },
  {
   "cell_type": "code",
   "execution_count": null,
   "metadata": {},
   "outputs": [],
   "source": []
  }
 ],
 "metadata": {
  "kernelspec": {
   "display_name": "Python 3",
   "language": "python",
   "name": "python3"
  },
  "language_info": {
   "codemirror_mode": {
    "name": "ipython",
    "version": 3
   },
   "file_extension": ".py",
   "mimetype": "text/x-python",
   "name": "python",
   "nbconvert_exporter": "python",
   "pygments_lexer": "ipython3",
   "version": "3.7.0"
  }
 },
 "nbformat": 4,
 "nbformat_minor": 2
}
